{
 "cells": [
  {
   "cell_type": "markdown",
   "metadata": {},
   "source": [
    "# 多线程"
   ]
  },
  {
   "cell_type": "code",
   "execution_count": 8,
   "metadata": {
    "ExecuteTime": {
     "end_time": "2019-12-14T09:29:23.821307Z",
     "start_time": "2019-12-14T09:29:23.810759Z"
    }
   },
   "outputs": [],
   "source": [
    "from multiprocessing import Pool\n",
    "import requests\n",
    "from lxml import etree\n",
    "import re\n",
    "import time\n",
    "\n",
    "\n",
    "headers = {\n",
    "    'user-agent': \"Mozilla/5.0 (Macintosh; Intel Mac OS X 10_14_6) AppleWebKit/537.36 (KHTML, like Gecko) Chrome/78.0.3904.108 Safari/537.36\"\n",
    "}\n",
    "\n",
    "\n",
    "def get_url(link):\n",
    "    res = requests.get(link, headers=headers)\n",
    "    selector = etree.HTML(res.text)\n",
    "    links = selector.xpath('//div[@class=\"pl2\"]/a[1]/@href')\n",
    "    return links\n",
    "\n",
    "def get_info(url):\n",
    "    res = requests.get(url, headers=headers)\n",
    "    selector = etree.HTML(res.text)\n",
    "    name = selector.xpath('//*[@id=\"wrapper\"]/h1/span/text()')[0]\n",
    "    author = re.findall('表演者:.*?>(.*?)</a>', res.text, re.S)[0].strip()\n",
    "    \n",
    "    styles = re.findall('<span class=\"pl\">流派:</span>&nbsp;(.*?)<br', res.text, re.S)\n",
    "    if len(styles) == 0:\n",
    "        style = '未知'\n",
    "    else:\n",
    "        style = styles[0].strip()\n",
    "        \n",
    "    medium = re.findall('<span class=\"pl\">介质:</span>&nbsp;(.*?)<br', res.text, re.S)[0].strip()\n",
    "    publishing_time = re.findall('<span class=\"pl\">发行时间:</span>&nbsp;(.*?)<br', res.text, re.S)[0].strip()\n",
    "    \n",
    "    publishers = re.findall('<span class=\"pl\">出版者:</span>&nbsp;(.*?)<br', res.text, re.S)\n",
    "    if len(publishers) == 0:\n",
    "        publisher = '未知'\n",
    "    else:\n",
    "        publisher = publishers[0].strip()\n",
    "    \n",
    "    \n",
    "    rate = float(selector.xpath('//*[@id=\"interest_sectl\"]/div/div[2]/strong/text()')[0])\n",
    "\n",
    "    info = { 'name': name,\n",
    "            'author': author,\n",
    "            'style': style,\n",
    "            'medium': medium,\n",
    "            'publishing_time': publishing_time,\n",
    "            'publisher': publisher,\n",
    "            'rate': rate,\n",
    "    }\n",
    "\n",
    "    return info\n"
   ]
  },
  {
   "cell_type": "code",
   "execution_count": 5,
   "metadata": {
    "ExecuteTime": {
     "end_time": "2019-12-14T09:24:42.373777Z",
     "start_time": "2019-12-14T09:23:23.509910Z"
    }
   },
   "outputs": [
    {
     "name": "stdout",
     "output_type": "stream",
     "text": [
      "串行: 76.35948014259338\n"
     ]
    },
    {
     "ename": "NameError",
     "evalue": "name 'Pool' is not defined",
     "output_type": "error",
     "traceback": [
      "\u001b[0;31m---------------------------------------------------------------------------\u001b[0m",
      "\u001b[0;31mNameError\u001b[0m                                 Traceback (most recent call last)",
      "\u001b[0;32m<ipython-input-5-36d7c18f0768>\u001b[0m in \u001b[0;36m<module>\u001b[0;34m\u001b[0m\n\u001b[1;32m      9\u001b[0m \u001b[0;34m\u001b[0m\u001b[0m\n\u001b[1;32m     10\u001b[0m     \u001b[0mstart_2\u001b[0m \u001b[0;34m=\u001b[0m \u001b[0mtime\u001b[0m\u001b[0;34m.\u001b[0m\u001b[0mtime\u001b[0m\u001b[0;34m(\u001b[0m\u001b[0;34m)\u001b[0m\u001b[0;34m\u001b[0m\u001b[0;34m\u001b[0m\u001b[0m\n\u001b[0;32m---> 11\u001b[0;31m     \u001b[0mpool\u001b[0m \u001b[0;34m=\u001b[0m \u001b[0mPool\u001b[0m\u001b[0;34m(\u001b[0m\u001b[0mprocesses\u001b[0m\u001b[0;34m=\u001b[0m\u001b[0;36m2\u001b[0m\u001b[0;34m)\u001b[0m\u001b[0;34m\u001b[0m\u001b[0;34m\u001b[0m\u001b[0m\n\u001b[0m\u001b[1;32m     12\u001b[0m     \u001b[0mpool\u001b[0m\u001b[0;34m.\u001b[0m\u001b[0mmap\u001b[0m\u001b[0;34m(\u001b[0m\u001b[0mget_info\u001b[0m\u001b[0;34m,\u001b[0m \u001b[0murls\u001b[0m\u001b[0;34m)\u001b[0m\u001b[0;34m\u001b[0m\u001b[0;34m\u001b[0m\u001b[0m\n\u001b[1;32m     13\u001b[0m     \u001b[0mend_2\u001b[0m \u001b[0;34m=\u001b[0m \u001b[0mtime\u001b[0m\u001b[0;34m.\u001b[0m\u001b[0mtime\u001b[0m\u001b[0;34m(\u001b[0m\u001b[0;34m)\u001b[0m\u001b[0;34m\u001b[0m\u001b[0;34m\u001b[0m\u001b[0m\n",
      "\u001b[0;31mNameError\u001b[0m: name 'Pool' is not defined"
     ]
    }
   ],
   "source": [
    "if __name__ == '__main__':\n",
    "    link = 'https://music.douban.com/top250?start=0'\n",
    "    urls = get_url(link)\n",
    "    start_1 = time.time()\n",
    "    for url in urls:\n",
    "        get_info(url)\n",
    "    end_1 = time.time()\n",
    "    print(\"串行:\", end_1-start_1)\n",
    "    \n"
   ]
  },
  {
   "cell_type": "code",
   "execution_count": 9,
   "metadata": {
    "ExecuteTime": {
     "end_time": "2019-12-14T09:30:15.896775Z",
     "start_time": "2019-12-14T09:29:34.851206Z"
    },
    "scrolled": true
   },
   "outputs": [
    {
     "name": "stdout",
     "output_type": "stream",
     "text": [
      "两个进程: 41.03893303871155\n"
     ]
    }
   ],
   "source": [
    "start_2 = time.time()\n",
    "pool = Pool(processes=2)\n",
    "pool.map(get_info, urls)\n",
    "end_2 = time.time()\n",
    "print(\"两个进程:\", end_2-start_2)"
   ]
  }
 ],
 "metadata": {
  "hide_input": false,
  "kernelspec": {
   "display_name": "Python 3",
   "language": "python",
   "name": "python3"
  },
  "language_info": {
   "codemirror_mode": {
    "name": "ipython",
    "version": 3
   },
   "file_extension": ".py",
   "mimetype": "text/x-python",
   "name": "python",
   "nbconvert_exporter": "python",
   "pygments_lexer": "ipython3",
   "version": "3.7.3"
  },
  "toc": {
   "base_numbering": 1,
   "nav_menu": {},
   "number_sections": true,
   "sideBar": true,
   "skip_h1_title": false,
   "title_cell": "Table of Contents",
   "title_sidebar": "Contents",
   "toc_cell": false,
   "toc_position": {},
   "toc_section_display": true,
   "toc_window_display": false
  },
  "varInspector": {
   "cols": {
    "lenName": 16,
    "lenType": 16,
    "lenVar": 40
   },
   "kernels_config": {
    "python": {
     "delete_cmd_postfix": "",
     "delete_cmd_prefix": "del ",
     "library": "var_list.py",
     "varRefreshCmd": "print(var_dic_list())"
    },
    "r": {
     "delete_cmd_postfix": ") ",
     "delete_cmd_prefix": "rm(",
     "library": "var_list.r",
     "varRefreshCmd": "cat(var_dic_list()) "
    }
   },
   "types_to_exclude": [
    "module",
    "function",
    "builtin_function_or_method",
    "instance",
    "_Feature"
   ],
   "window_display": true
  }
 },
 "nbformat": 4,
 "nbformat_minor": 2
}
