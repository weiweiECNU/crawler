{
 "cells": [
  {
   "cell_type": "markdown",
   "metadata": {},
   "source": [
    "# API "
   ]
  },
  {
   "cell_type": "code",
   "execution_count": 234,
   "metadata": {
    "ExecuteTime": {
     "end_time": "2019-12-12T07:08:07.166778Z",
     "start_time": "2019-12-12T07:08:07.157168Z"
    }
   },
   "outputs": [],
   "source": [
    "import requests\n",
    "import json\n",
    "import pprint\n",
    "import time\n",
    "import csv"
   ]
  },
  {
   "cell_type": "markdown",
   "metadata": {
    "ExecuteTime": {
     "end_time": "2019-12-11T05:20:39.539013Z",
     "start_time": "2019-12-11T05:20:39.531973Z"
    }
   },
   "source": [
    "## Json\n",
    "\n",
    "JSON 解析库并不是把 JSON 数据解析为 JSON 对象或 者 JSON 节点，而是把 JSON 数据转换为字典 ， \n",
    "JSON 数组转 换成列 表 ， JSON 字符串转换 为 Python字符串，这样便可以轻松地对 JSON数据进行操作了。"
   ]
  },
  {
   "cell_type": "code",
   "execution_count": 9,
   "metadata": {
    "ExecuteTime": {
     "end_time": "2019-12-09T08:40:35.726471Z",
     "start_time": "2019-12-09T08:40:35.721306Z"
    }
   },
   "outputs": [
    {
     "name": "stdout",
     "output_type": "stream",
     "text": [
      "Peter\n"
     ]
    }
   ],
   "source": [
    "import json\n",
    "\n",
    "jsonstring = '{\"user_man\": [{\"name\": \"Peter\"}, {\"name\": \"xiaoming\"}], '\\\n",
    "'\"user_woman\": [{\"name\": \"Mary\"}, {\"name\": \"xiaohong\"}]}'\n",
    "\n",
    "json_data = json.loads(jsonstring)\n",
    "print(json_data[\"user_man\"][0][\"name\"])"
   ]
  },
  {
   "cell_type": "markdown",
   "metadata": {},
   "source": [
    "## API \n",
    "\n",
    "调用https://rapidapi.com/ 的 `MyMemory` 获取翻译结果\n",
    "\n"
   ]
  },
  {
   "cell_type": "code",
   "execution_count": 19,
   "metadata": {
    "ExecuteTime": {
     "end_time": "2019-12-11T06:00:35.814060Z",
     "start_time": "2019-12-11T06:00:34.104586Z"
    }
   },
   "outputs": [
    {
     "name": "stdout",
     "output_type": "stream",
     "text": [
      "{\"responseData\":{\"translatedText\":\"Elephant\",\"match\":1},\"quotaFinished\":false,\"mtLangSupported\":null,\"responseDetails\":\"\",\"responseStatus\":200,\"responderId\":\"60\",\"exception_code\":null,\"matches\":[{\"id\":\"424289961\",\"segment\":\"\\u5927\\u8c61\",\"translation\":\"Elephant\",\"quality\":\"80\",\"reference\":null,\"usage-count\":8,\"subject\":\"All\",\"created-by\":\"Wikipedia\",\"last-updated-by\":\"Wikipedia\",\"create-date\":\"2012-02-11 01:13:20\",\"last-update-date\":\"2012-02-11 01:13:20\",\"match\":1},{\"id\":\"463490305\",\"segment\":\"\\u5927\\u8c61\",\"translation\":\"Elephants\",\"quality\":\"74\",\"reference\":null,\"usage-count\":3,\"subject\":\"All\",\"created-by\":\"MateCat\",\"last-updated-by\":\"MateCat\",\"create-date\":\"2017-10-08 19:58:40\",\"last-update-date\":\"2017-10-08 19:58:40\",\"match\":0.99},{\"id\":\"463713069\",\"segment\":\"\\u5927\\u8c61\\u3001\\u7280\\u725b\\u3001\\u6cb3\\u9a6c\\uff1b\",\"translation\":\"Elephant, rhinoceros, hippopotamus;\",\"quality\":\"0\",\"reference\":null,\"usage-count\":1,\"subject\":\"All\",\"created-by\":\"MateCat\",\"last-updated-by\":\"MateCat\",\"create-date\":\"2015-01-19 13:08:10\",\"last-update-date\":\"2015-01-19 13:08:10\",\"match\":0.55}]}\n"
     ]
    }
   ],
   "source": [
    "url = \"https://translated-mymemory---translation-memory.p.rapidapi.com/api/get\"\n",
    "\n",
    "querystring = {\"mt\": \"0\", \"onlyprivate\": \"0\",\n",
    "               \"langpair\": \"zh-cn|en\", \"q\": \"大象\"}\n",
    "\n",
    "headers = {\n",
    "    'x-rapidapi-host': \"translated-mymemory---translation-memory.p.rapidapi.com\",\n",
    "    'x-rapidapi-key': \"ad0f12f18amsh0bfd615fab82b74p17b1d1jsn0491771acafa\"\n",
    "}\n",
    "\n",
    "response = requests.request(\"GET\", url, headers=headers, params=querystring)\n",
    "\n",
    "print(response.text)"
   ]
  },
  {
   "cell_type": "code",
   "execution_count": 20,
   "metadata": {
    "ExecuteTime": {
     "end_time": "2019-12-11T06:00:37.522180Z",
     "start_time": "2019-12-11T06:00:37.504521Z"
    }
   },
   "outputs": [
    {
     "name": "stdout",
     "output_type": "stream",
     "text": [
      "{'exception_code': None,\n",
      " 'matches': [{'create-date': '2012-02-11 01:13:20',\n",
      "              'created-by': 'Wikipedia',\n",
      "              'id': '424289961',\n",
      "              'last-update-date': '2012-02-11 01:13:20',\n",
      "              'last-updated-by': 'Wikipedia',\n",
      "              'match': 1,\n",
      "              'quality': '80',\n",
      "              'reference': None,\n",
      "              'segment': '大象',\n",
      "              'subject': 'All',\n",
      "              'translation': 'Elephant',\n",
      "              'usage-count': 8},\n",
      "             {'create-date': '2017-10-08 19:58:40',\n",
      "              'created-by': 'MateCat',\n",
      "              'id': '463490305',\n",
      "              'last-update-date': '2017-10-08 19:58:40',\n",
      "              'last-updated-by': 'MateCat',\n",
      "              'match': 0.99,\n",
      "              'quality': '74',\n",
      "              'reference': None,\n",
      "              'segment': '大象',\n",
      "              'subject': 'All',\n",
      "              'translation': 'Elephants',\n",
      "              'usage-count': 3},\n",
      "             {'create-date': '2015-01-19 13:08:10',\n",
      "              'created-by': 'MateCat',\n",
      "              'id': '463713069',\n",
      "              'last-update-date': '2015-01-19 13:08:10',\n",
      "              'last-updated-by': 'MateCat',\n",
      "              'match': 0.55,\n",
      "              'quality': '0',\n",
      "              'reference': None,\n",
      "              'segment': '大象、犀牛、河马；',\n",
      "              'subject': 'All',\n",
      "              'translation': 'Elephant, rhinoceros, hippopotamus;',\n",
      "              'usage-count': 1}],\n",
      " 'mtLangSupported': None,\n",
      " 'quotaFinished': False,\n",
      " 'responderId': '60',\n",
      " 'responseData': {'match': 1, 'translatedText': 'Elephant'},\n",
      " 'responseDetails': '',\n",
      " 'responseStatus': 200}\n"
     ]
    }
   ],
   "source": [
    "json_data = json.loads(response.text) \n",
    "pprint.pprint(json_data)"
   ]
  },
  {
   "cell_type": "code",
   "execution_count": 18,
   "metadata": {
    "ExecuteTime": {
     "end_time": "2019-12-11T05:55:06.779520Z",
     "start_time": "2019-12-11T05:55:06.766886Z"
    }
   },
   "outputs": [
    {
     "data": {
      "text/plain": [
       "'Elephant'"
      ]
     },
     "execution_count": 18,
     "metadata": {},
     "output_type": "execute_result"
    }
   ],
   "source": [
    "json_data['matches'][0][\"translation\"]"
   ]
  },
  {
   "cell_type": "markdown",
   "metadata": {},
   "source": [
    "## 调用 Google geocoding \n"
   ]
  },
  {
   "cell_type": "code",
   "execution_count": 26,
   "metadata": {
    "ExecuteTime": {
     "end_time": "2019-12-11T09:13:50.512401Z",
     "start_time": "2019-12-11T09:13:49.812626Z"
    }
   },
   "outputs": [
    {
     "name": "stdout",
     "output_type": "stream",
     "text": [
      "{'results': [{'address_components': [{'long_name': '东城区',\n",
      "                                      'short_name': '东城区',\n",
      "                                      'types': ['political',\n",
      "                                                'sublocality',\n",
      "                                                'sublocality_level_1']},\n",
      "                                     {'long_name': '北京市',\n",
      "                                      'short_name': '北京市',\n",
      "                                      'types': ['administrative_area_level_1',\n",
      "                                                'political']},\n",
      "                                     {'long_name': '中国',\n",
      "                                      'short_name': 'CN',\n",
      "                                      'types': ['country', 'political']}],\n",
      "              'formatted_address': '中国北京市东城区',\n",
      "              'geometry': {'location': {'lat': 39.9087202, 'lng': 116.3974799},\n",
      "                           'location_type': 'GEOMETRIC_CENTER',\n",
      "                           'viewport': {'northeast': {'lat': 39.91006918029149,\n",
      "                                                      'lng': 116.3988288802915},\n",
      "                                        'southwest': {'lat': 39.90737121970849,\n",
      "                                                      'lng': 116.3961309197085}}},\n",
      "              'place_id': 'ChIJ2XRD3Jh2YzYRmjlIoYPLKGk',\n",
      "              'plus_code': {'compound_code': 'W95W+FX 中国北京市东城区',\n",
      "                            'global_code': '8PFRW95W+FX'},\n",
      "              'types': ['establishment',\n",
      "                        'point_of_interest',\n",
      "                        'tourist_attraction']},\n",
      "             {'address_components': [{'long_name': '东城区',\n",
      "                                      'short_name': '东城区',\n",
      "                                      'types': ['political',\n",
      "                                                'sublocality',\n",
      "                                                'sublocality_level_1']},\n",
      "                                     {'long_name': '北京市',\n",
      "                                      'short_name': '北京市',\n",
      "                                      'types': ['administrative_area_level_1',\n",
      "                                                'political']},\n",
      "                                     {'long_name': '中国',\n",
      "                                      'short_name': 'CN',\n",
      "                                      'types': ['country', 'political']}],\n",
      "              'formatted_address': '中国北京市东城区',\n",
      "              'geometry': {'location': {'lat': 39.9054895, 'lng': 116.3976317},\n",
      "                           'location_type': 'GEOMETRIC_CENTER',\n",
      "                           'viewport': {'northeast': {'lat': 39.9068384802915,\n",
      "                                                      'lng': 116.3989806802915},\n",
      "                                        'southwest': {'lat': 39.9041405197085,\n",
      "                                                      'lng': 116.3962827197085}}},\n",
      "              'place_id': 'ChIJ2XRD3Jh2YzYRE1lUrcku6io',\n",
      "              'plus_code': {'compound_code': 'W94X+53 中国北京市东城区',\n",
      "                            'global_code': '8PFRW94X+53'},\n",
      "              'types': ['establishment',\n",
      "                        'point_of_interest',\n",
      "                        'tourist_attraction']}],\n",
      " 'status': 'OK'}\n"
     ]
    }
   ],
   "source": [
    "url = \"https://google-maps-geocoding.p.rapidapi.com/geocode/json\"\n",
    "\n",
    "querystring = {\"language\": \"zh-cn\",\n",
    "               \"address\": \"北京天安门\"}\n",
    "\n",
    "headers = {\n",
    "    'x-rapidapi-host': \"google-maps-geocoding.p.rapidapi.com\",\n",
    "    'x-rapidapi-key': \"ad0f12f18amsh0bfd615fab82b74p17b1d1jsn0491771acafa\"\n",
    "}\n",
    "\n",
    "response = requests.request(\"GET\", url, headers=headers, params=querystring)\n",
    "\n",
    "\n",
    "json_data = json.loads(response.text)\n",
    "pprint.pprint(json_data)"
   ]
  },
  {
   "cell_type": "markdown",
   "metadata": {},
   "source": [
    "## 爬 sydneytoday.com 的房源位置信息\n"
   ]
  },
  {
   "cell_type": "code",
   "execution_count": 285,
   "metadata": {
    "ExecuteTime": {
     "end_time": "2019-12-12T07:57:49.727432Z",
     "start_time": "2019-12-12T07:57:49.697243Z"
    }
   },
   "outputs": [
    {
     "data": {
      "text/plain": [
       "9"
      ]
     },
     "execution_count": 285,
     "metadata": {},
     "output_type": "execute_result"
    }
   ],
   "source": [
    "import requests\n",
    "from lxml import etree\n",
    "from bs4 import BeautifulSoup\n",
    "import re\n",
    "\n",
    "\n",
    "headers = {\n",
    "    'user-agent': \"Mozilla/5.0 (Macintosh; Intel Mac OS X 10_14_6) AppleWebKit/537.36 (KHTML, like Gecko) Chrome/78.0.3904.108 Safari/537.36\"\n",
    "} \n",
    "\n",
    "file = open(\"/Users/apple/Downloads/Code/crawler/todaySydney.csv\",'wt', newline='', encoding= 'utf8')\n",
    "writer = csv.writer(file)\n",
    "writer.writerow((\"lat\",\"lng\"))\n"
   ]
  },
  {
   "cell_type": "code",
   "execution_count": 286,
   "metadata": {
    "ExecuteTime": {
     "end_time": "2019-12-12T07:59:17.924622Z",
     "start_time": "2019-12-12T07:58:01.054445Z"
    }
   },
   "outputs": [
    {
     "name": "stdout",
     "output_type": "stream",
     "text": [
      "2\n"
     ]
    }
   ],
   "source": [
    "\n",
    "for i in range(2,3):\n",
    "    url = 'https://www.sydneytoday.com/house_rent-ha0-fs0-hx0-so0-jg0-cw0-p' + str(i)\n",
    "    res = requests.get(url, headers=headers)\n",
    "    if res.status_code == 200:\n",
    "        \n",
    "        if i == 1:\n",
    "            soup = BeautifulSoup(res.text, \"lxml\")\n",
    "            selector = \"body > div.main.container > div > div.col-mtg-7 > div.yp-list > div > div > div.col-xs-9.no-padding-left > a\"\n",
    "            links = [ x.get(\"href\") for x in soup.select(selector)]\n",
    "            for link in links:\n",
    "                if get_location(link) != None:\n",
    "                    writer.writerow(get_location(link))\n",
    "                \n",
    "        else:\n",
    "            json_data = json.loads(res.text) \n",
    "            for row in json_data[\"data\"]['rows']:\n",
    "                if row[\"_id\"] != 0:\n",
    "                    link = '//www.sydneytoday.com/house_rent/' + row[\"_id\"]\n",
    "                    if get_location(link) != None:\n",
    "                        writer.writerow(get_location(link))\n",
    "                    \n",
    "        \n",
    "    print(i)\n",
    "    time.sleep(1)\n",
    "    \n",
    "    \n",
    "    \n",
    "file.close()"
   ]
  },
  {
   "cell_type": "code",
   "execution_count": 273,
   "metadata": {
    "ExecuteTime": {
     "end_time": "2019-12-12T07:26:03.304739Z",
     "start_time": "2019-12-12T07:26:01.781048Z"
    }
   },
   "outputs": [],
   "source": [
    "link = \"//www.sydneytoday.com/house_rent/191932560495034\"\n",
    "get_location(link)\n"
   ]
  },
  {
   "cell_type": "code",
   "execution_count": 263,
   "metadata": {
    "ExecuteTime": {
     "end_time": "2019-12-12T07:21:57.306890Z",
     "start_time": "2019-12-12T07:21:57.299622Z"
    }
   },
   "outputs": [],
   "source": [
    "def get_location(link):\n",
    "    link = \"https:\" + link\n",
    "    res = requests.get(link, headers=headers)\n",
    "\n",
    "    soup = BeautifulSoup(res.text, \"lxml\")\n",
    "    try:\n",
    "        address = soup.select(\"body > div.main.container > div > div.col-mtg-7 > div.yp-content > div.padding20 > div.row > div:nth-child(1) > div:nth-child(6)\")[0].text[4:]\n",
    "    except:\n",
    "        pass\n",
    "    else:\n",
    "        print(geocoding(address))\n",
    "        return geocoding(address)\n",
    "\n",
    "    "
   ]
  },
  {
   "cell_type": "code",
   "execution_count": 244,
   "metadata": {
    "ExecuteTime": {
     "end_time": "2019-12-12T07:16:37.416589Z",
     "start_time": "2019-12-12T07:16:37.409978Z"
    }
   },
   "outputs": [],
   "source": [
    "def geocoding(address):\n",
    "    url = \"https://google-maps-geocoding.p.rapidapi.com/geocode/json\"\n",
    "\n",
    "    querystring = {\"bounds\":\"-34.0,151.2|-33.5,150.0\",\n",
    "                   \"language\": \"en\",\n",
    "                   \"address\": address}\n",
    "\n",
    "    headers = {\n",
    "        'x-rapidapi-host': \"google-maps-geocoding.p.rapidapi.com\",\n",
    "        'x-rapidapi-key': \"ad0f12f18amsh0bfd615fab82b74p17b1d1jsn0491771acafa\"\n",
    "    }\n",
    "\n",
    "    response = requests.request(\"GET\", url, headers=headers, params=querystring)\n",
    "\n",
    "\n",
    "    json_data = json.loads(response.text)\n",
    "    lat = json_data[\"results\"][0][\"geometry\"][\"location\"]['lat']\n",
    "    lng = json_data[\"results\"][0][\"geometry\"][\"location\"]['lng']\n",
    "    \n",
    "    return lat, lng"
   ]
  }
 ],
 "metadata": {
  "hide_input": false,
  "kernelspec": {
   "display_name": "Python 3",
   "language": "python",
   "name": "python3"
  },
  "language_info": {
   "codemirror_mode": {
    "name": "ipython",
    "version": 3
   },
   "file_extension": ".py",
   "mimetype": "text/x-python",
   "name": "python",
   "nbconvert_exporter": "python",
   "pygments_lexer": "ipython3",
   "version": "3.7.3"
  },
  "toc": {
   "base_numbering": 1,
   "nav_menu": {},
   "number_sections": true,
   "sideBar": true,
   "skip_h1_title": false,
   "title_cell": "Table of Contents",
   "title_sidebar": "Contents",
   "toc_cell": false,
   "toc_position": {},
   "toc_section_display": true,
   "toc_window_display": false
  },
  "varInspector": {
   "cols": {
    "lenName": 16,
    "lenType": 16,
    "lenVar": 40
   },
   "kernels_config": {
    "python": {
     "delete_cmd_postfix": "",
     "delete_cmd_prefix": "del ",
     "library": "var_list.py",
     "varRefreshCmd": "print(var_dic_list())"
    },
    "r": {
     "delete_cmd_postfix": ") ",
     "delete_cmd_prefix": "rm(",
     "library": "var_list.r",
     "varRefreshCmd": "cat(var_dic_list()) "
    }
   },
   "oldHeight": 122,
   "position": {
    "height": "40px",
    "left": "1170px",
    "right": "20px",
    "top": "120px",
    "width": "250px"
   },
   "types_to_exclude": [
    "module",
    "function",
    "builtin_function_or_method",
    "instance",
    "_Feature"
   ],
   "varInspector_section_display": "none",
   "window_display": true
  }
 },
 "nbformat": 4,
 "nbformat_minor": 2
}
