{
 "cells": [
  {
   "cell_type": "code",
   "execution_count": 23,
   "metadata": {
    "ExecuteTime": {
     "end_time": "2019-12-10T04:44:55.928099Z",
     "start_time": "2019-12-10T04:44:55.671805Z"
    }
   },
   "outputs": [],
   "source": [
    "import requests\n",
    "from lxml import etree\n",
    "from bs4 import BeautifulSoup \n",
    "\n"
   ]
  },
  {
   "cell_type": "code",
   "execution_count": 24,
   "metadata": {
    "ExecuteTime": {
     "end_time": "2019-12-10T04:44:57.385428Z",
     "start_time": "2019-12-10T04:44:57.373201Z"
    }
   },
   "outputs": [],
   "source": [
    "headers = {\n",
    "    'user-agent': \"Mozilla/5.0 (Macintosh; Intel Mac OS X 10_14_6) AppleWebKit/537.36 (KHTML, like Gecko) Chrome/78.0.3904.108 Safari/537.36\"\n",
    "}\n"
   ]
  },
  {
   "cell_type": "code",
   "execution_count": 31,
   "metadata": {
    "ExecuteTime": {
     "end_time": "2019-12-10T04:50:17.898117Z",
     "start_time": "2019-12-10T04:50:15.478792Z"
    }
   },
   "outputs": [],
   "source": [
    "url = \"https://m.weibo.cn/u/2286908003?uid=2286908003&luicode=10000011&lfid=100103type%3D1%26q%3DC919\"\n",
    "res = requests.get(url, headers=headers)"
   ]
  },
  {
   "cell_type": "code",
   "execution_count": 32,
   "metadata": {
    "ExecuteTime": {
     "end_time": "2019-12-10T04:50:19.771792Z",
     "start_time": "2019-12-10T04:50:19.754248Z"
    }
   },
   "outputs": [],
   "source": [
    "soup = BeautifulSoup(res.text, \"lxml\")"
   ]
  },
  {
   "cell_type": "code",
   "execution_count": 33,
   "metadata": {
    "ExecuteTime": {
     "end_time": "2019-12-10T04:50:21.505759Z",
     "start_time": "2019-12-10T04:50:21.447712Z"
    }
   },
   "outputs": [
    {
     "data": {
      "text/plain": [
       "<!DOCTYPE html>\n",
       "<html lang=\"zh-cn\">\n",
       "<head>\n",
       "<meta charset=\"utf-8\"/>\n",
       "<link href=\"//h5.sinaimg.cn\" rel=\"dns-prefetch\"/>\n",
       "<meta content=\"width=device-width,initial-scale=1,user-scalable=no,viewport-fit=cover\" name=\"viewport\"/>\n",
       "<meta content=\"telephone=no\" name=\"format-detection\"/>\n",
       "<link href=\"/favicon.ico\" rel=\"shortcut icon\" type=\"image/x-icon\"/>\n",
       "<title>微博</title>\n",
       "<meta content=\"随时随地发现新鲜事！微博带你欣赏世界上每一个精彩瞬间，了解每一个幕后故事。分享你想表达的，让全世界都能听到你的心声！\" name=\"description\"/>\n",
       "<link href=\"//h5.sinaimg.cn/marvel/v1.4.5/css/lib/base.css\" rel=\"stylesheet\"/>\n",
       "<link href=\"//h5.sinaimg.cn/marvel/v1.4.5/css/card/cards.css\" rel=\"stylesheet\"/>\n",
       "<link href=\"/manifest.json\" rel=\"manifest\"/>\n",
       "<script>!function(e){var a,i=navigator.userAgent.toLowerCase(),n=document.documentElement,t=parseInt(n.clientWidth);if(/(iPhone|iPad|iPod|iOS)/i.test(navigator.userAgent)||i.indexOf(\"like mac os x\")>0){var s=/os [\\d._]*/gi,o=i.match(s);a=(o+\"\").replace(/[^0-9|_.]/gi,\"\").replace(/_/gi,\".\")}var r=a+\"\";\"undefined\"!=r&&r.length>0&&(a=parseInt(r),a>=8&&(375==t||667==t||320==t||568==t||480==t)?n.className=\"iosx2\":(a>=8&&414==t||736==t)&&(n.className=\"iosx3\")),/(Android)/i.test(navigator.userAgent)&&(n.className=\"android\")}(window);</script>\n",
       "<style>html, body {margin: 0 !important;padding: 0 !important;}html, body, #app {height: 100%;}[v-cloak] {display: none;}.wb-item-wrap .card9.card{margin:0}.f-weibo .m-img-box{background-color:#e6e6e6}.empty-bg{width:100%;background-color:#e6e6e6;height:.375rem}.inline-block{display:inline-block}.txt-margin{margin:0 0 1rem 0}.width-min{width:4.375rem}.anim-load{animation:load .5s ease-out;-moz-animation:load .5s ease-out;-webkit-animation:load .5s ease-out;-o-animation:load .5s ease-out}@keyframes load{0%{background-color:#fff}100%{background-color:#e6e6e6}}@-moz-keyframes load{0%{background-color:#fff}100%{background-color:#e6e6e6}}@-webkit-keyframes load{0%{background-color:#fff}100%{background-color:#e6e6e6}}.f-more{letter-spacing:.1rem}.f-weibo .f-card-title{margin:-1rem -1rem .5rem -1rem;padding:0 1rem;border-width:0}.f-weibo .m-avatar-box .m-img-box .m-icon{font-size:14px}.iosx3 .card9 .f-card-title{border-width:0}.iosx2 .card9 .f-card-title{border-width:0}.f-weibo.card9{border-bottom:1px solid #e6e6e6}.iosx3 .f-weibo.card9{border-bottom:.36px solid #e6e6e6}.iosx2 .f-weibo.card9{border-bottom:.5px solid #e6e6e6}.f-weibo.card9>.card-wrap{margin-left:.75rem;margin-right:.75rem}.f-weibo.card9.m-panel{border-top-width:0}.f-weibo.card .card-wrap .f-col-wrap{padding:0 .9375rem}.f-weibo.card9 .m-box-col{min-width:0}.f-weibo.card9 .weibo-top{padding:0 0 0 .25rem}.f-weibo.card9 .weibo-top .m-box-col .m-icon{margin-left:3px}.f-weibo.card9 .weibo-main .weibo-og{padding:.75rem 0 0 .25rem}.f-weibo.card9 .weibo-main .card-wrap ~ .weibo-rp{margin-top:0.5rem}.f-weibo.card9 .weibo-main .media-b{margin:.625rem 0 -.375rem}.f-weibo.card9 .weibo-main .media-b .m-auto-list{margin:0 0 -.25rem}.f-weibo .weibo-top .m-text-box{margin:.15rem 0 .15rem .5rem}.f-weibo .f-r{float:right}.f-weibo .weibo-main .weibo-og{font-size:.9375rem}.f-weibo .weibo-rp .weibo-text{font-size:.9375rem}.f-weibo .weibo-rp .f-footer-ctrl{padding:0.625rem 0 0}.f-weibo .f-bg-img{background-size:cover;background-repeat:no-repeat;background-position:center;position:absolute;width:100%;height:100%}.f-footer-ctrl{border-top-width:0;height:1.1rem;padding: 1rem .375rem 1rem 0;margin: 0 0.75rem}.f-footer-ctrl .m-diy-btn{color:rgba(40,47,60,0.8);height:100%;float:left}.f-footer-ctrl .m-diy-btn+.m-diy-btn{margin-left:1.6875rem}.f-footer-ctrl .m-diy-btn .m-icon{font-size:16px}.f-footer-ctrl aside{float:right;color:rgba(40,47,60,0.8)}.f-footer-ctrl .m-font{font-size:1rem;vertical-align:middle}.f-footer-ctrl .m-diy-btn h4{font-size:.8125rem;display:inline-block;margin-top:0;margin-left:.25rem}</style>\n",
       "<style>\n",
       "</style>\n",
       "<link as=\"style\" href=\"//h5.sinaimg.cn/m/weibo-lite/css/app.5f37cf49.css\" rel=\"preload\"/><link as=\"style\" href=\"//h5.sinaimg.cn/m/weibo-lite/css/vendor.65ade26c.css\" rel=\"preload\"/><link as=\"script\" href=\"//h5.sinaimg.cn/m/weibo-lite/js/app.54b65847.js\" rel=\"preload\"/><link as=\"script\" href=\"//h5.sinaimg.cn/m/weibo-lite/js/manifest.010cc108.js\" rel=\"preload\"/><link as=\"script\" href=\"//h5.sinaimg.cn/m/weibo-lite/js/vendor.c73be55b.js\" rel=\"preload\"/><link href=\"//h5.sinaimg.cn/m/weibo-lite/css/vendor.65ade26c.css\" rel=\"stylesheet\"/><link href=\"//h5.sinaimg.cn/m/weibo-lite/css/app.5f37cf49.css\" rel=\"stylesheet\"/><link href=\"//h5.sinaimg.cn/m/weibo-lite/favicon-32.png\" rel=\"icon\" sizes=\"32x32\" type=\"image/png\"/><link href=\"//h5.sinaimg.cn/m/weibo-lite/favicon-16.png\" rel=\"icon\" sizes=\"16x16\" type=\"image/png\"/><link href=\"//h5.sinaimg.cn/m/weibo-lite/manifest.json\" rel=\"manifest\"/><meta content=\"#F3F3F3\" name=\"theme-color\"/><meta content=\"yes\" name=\"apple-mobile-web-app-capable\"/><meta content=\"default\" name=\"apple-mobile-web-app-status-bar-style\"/><meta content=\"微博Lite\" name=\"apple-mobile-web-app-title\"/><link href=\"//h5.sinaimg.cn/m/weibo-lite/appicon.png\" rel=\"apple-touch-icon\"/><link color=\"#F3F3F3\" href=\"//h5.sinaimg.cn/m/weibo-lite/mask-icon.svg\" rel=\"mask-icon\"/><meta content=\"//h5.sinaimg.cn/m/weibo-lite/appicon.png\" name=\"msapplication-TileImage\"/><meta content=\"#000000\" name=\"msapplication-TileColor\"/></head>\n",
       "<body>\n",
       "<div class=\"m-container-max\" id=\"app\">\n",
       "<router-view>\n",
       "<div class=\"wb-item-wrap\"><div class=\"wb-item\"><div class=\"card m-panel card9 f-weibo\"><div class=\"card-wrap\"><header class=\"weibo-top m-box\"><div class=\"m-avatar-box\"><a class=\"m-img-box anim-load\" href=\"javascript:;\"></a></div><div class=\"m-box-dir m-box-col\"><div class=\"m-text-box\"><h4 class=\"m-text-cut f-r\"></h4><h3 class=\"m-text-cut empty-bg width-min inline-block anim-load\"></h3></div></div></header><article class=\"weibo-main\"><div class=\"weibo-og\"><p class=\"empty-bg txt-margin anim-load\"></p><p class=\"empty-bg txt-margin anim-load\"></p><p class=\"empty-bg txt-margin anim-load\"></p><p class=\"empty-bg txt-margin anim-load\"></p><p class=\"empty-bg txt-margin anim-load\"></p></div></article><footer class=\"f-footer-ctrl\"><div class=\"m-diy-btn\"><i class=\"m-font m-font-forward\"></i><h4>转发</h4></div><div class=\"m-diy-btn\"><i class=\"m-font m-font-comment\"></i><h4>评论</h4></div><div class=\"m-diy-btn\"><i class=\"m-icon m-icon-like\"></i><h4>赞</h4></div><aside><i class=\"f-more\">...</i></aside></footer></div></div></div></div>\n",
       "<div class=\"wb-item-wrap\"><div class=\"wb-item\"><div class=\"card m-panel card9 f-weibo\"><div class=\"card-wrap\"><header class=\"weibo-top m-box\"><div class=\"m-avatar-box\"><a class=\"m-img-box anim-load\" href=\"javascript:;\"></a></div><div class=\"m-box-dir m-box-col\"><div class=\"m-text-box\"><h4 class=\"m-text-cut f-r\"></h4><h3 class=\"m-text-cut empty-bg width-min inline-block anim-load\"></h3></div></div></header><article class=\"weibo-main\"><div class=\"weibo-og\"><p class=\"empty-bg txt-margin anim-load\"></p><p class=\"empty-bg txt-margin anim-load\"></p><p class=\"empty-bg txt-margin anim-load\"></p><p class=\"empty-bg txt-margin anim-load\"></p><p class=\"empty-bg txt-margin anim-load\"></p></div></article><footer class=\"f-footer-ctrl\"><div class=\"m-diy-btn\"><i class=\"m-font m-font-forward\"></i><h4>转发</h4></div><div class=\"m-diy-btn\"><i class=\"m-font m-font-comment\"></i><h4>评论</h4></div><div class=\"m-diy-btn\"><i class=\"m-icon m-icon-like\"></i><h4>赞</h4></div><aside><i class=\"f-more\">...</i></aside></footer></div></div></div></div>\n",
       "<div class=\"wb-item-wrap\"><div class=\"wb-item\"><div class=\"card m-panel card9 f-weibo\"><div class=\"card-wrap\"><header class=\"weibo-top m-box\"><div class=\"m-avatar-box\"><a class=\"m-img-box anim-load\" href=\"javascript:;\"></a></div><div class=\"m-box-dir m-box-col\"><div class=\"m-text-box\"><h4 class=\"m-text-cut f-r\"></h4><h3 class=\"m-text-cut empty-bg width-min inline-block anim-load\"></h3></div></div></header><article class=\"weibo-main\"><div class=\"weibo-og\"><p class=\"empty-bg txt-margin anim-load\"></p><p class=\"empty-bg txt-margin anim-load\"></p><p class=\"empty-bg txt-margin anim-load\"></p><p class=\"empty-bg txt-margin anim-load\"></p><p class=\"empty-bg txt-margin anim-load\"></p></div></article><footer class=\"f-footer-ctrl\"><div class=\"m-diy-btn\"><i class=\"m-font m-font-forward\"></i><h4>转发</h4></div><div class=\"m-diy-btn\"><i class=\"m-font m-font-comment\"></i><h4>评论</h4></div><div class=\"m-diy-btn\"><i class=\"m-icon m-icon-like\"></i><h4>赞</h4></div><aside><i class=\"f-more\">...</i></aside></footer></div></div></div></div>\n",
       "<div class=\"wb-item-wrap\"><div class=\"wb-item\"><div class=\"card m-panel card9 f-weibo\"><div class=\"card-wrap\"><header class=\"weibo-top m-box\"><div class=\"m-avatar-box\"><a class=\"m-img-box anim-load\" href=\"javascript:;\"></a></div><div class=\"m-box-dir m-box-col\"><div class=\"m-text-box\"><h4 class=\"m-text-cut f-r\"></h4><h3 class=\"m-text-cut empty-bg width-min inline-block anim-load\"></h3></div></div></header><article class=\"weibo-main\"><div class=\"weibo-og\"><p class=\"empty-bg txt-margin anim-load\"></p><p class=\"empty-bg txt-margin anim-load\"></p><p class=\"empty-bg txt-margin anim-load\"></p><p class=\"empty-bg txt-margin anim-load\"></p><p class=\"empty-bg txt-margin anim-load\"></p></div></article><footer class=\"f-footer-ctrl\"><div class=\"m-diy-btn\"><i class=\"m-font m-font-forward\"></i><h4>转发</h4></div><div class=\"m-diy-btn\"><i class=\"m-font m-font-comment\"></i><h4>评论</h4></div><div class=\"m-diy-btn\"><i class=\"m-icon m-icon-like\"></i><h4>赞</h4></div><aside><i class=\"f-more\">...</i></aside></footer></div></div></div></div>\n",
       "</router-view>\n",
       "<mv-modal></mv-modal>\n",
       "</div>\n",
       "<script>\n",
       "    var config = {\n",
       "      env: 'prod',\n",
       "      version: 'v2.3.15',\n",
       "      login: [][0],\n",
       "      st: '4849a3',\n",
       "      uid: '',\n",
       "      pageConfig: [{\"type\":\"uid\",\"value\":\"2286908003\"}][0] || {},\n",
       "      preferQuickapp: '0',\n",
       "      wm: ''\n",
       "    }\n",
       "  var $render_data = [null][0] || {};\n",
       "  var __wb_performance_data={v:\"v8\",m:\"mainsite\",pwa:1,sw:0};\n",
       "  </script>\n",
       "<script data-rate=\"0.1\" id=\"__wb_performance_log\" src=\"https://h5.sinaimg.cn/upload/1005/16/2017/11/30/wbp.js\"></script>\n",
       "<script src=\"//h5.sinaimg.cn/m/weibo-lite/js/manifest.010cc108.js\"></script><script src=\"//h5.sinaimg.cn/m/weibo-lite/js/vendor.c73be55b.js\"></script><script src=\"//h5.sinaimg.cn/m/weibo-lite/js/app.54b65847.js\"></script></body>\n",
       "</html>"
      ]
     },
     "execution_count": 33,
     "metadata": {},
     "output_type": "execute_result"
    }
   ],
   "source": [
    "soup"
   ]
  },
  {
   "cell_type": "code",
   "execution_count": 34,
   "metadata": {
    "ExecuteTime": {
     "end_time": "2019-12-10T04:51:09.337786Z",
     "start_time": "2019-12-10T04:51:09.323743Z"
    }
   },
   "outputs": [
    {
     "data": {
      "text/plain": [
       "[]"
      ]
     },
     "execution_count": 34,
     "metadata": {},
     "output_type": "execute_result"
    }
   ],
   "source": [
    "soup.select(\"#app > div:nth-child(1) > div:nth-child(1) > div:nth-child(4) > div > div > article > div > div.weibo-text\")\n"
   ]
  }
 ],
 "metadata": {
  "hide_input": false,
  "kernelspec": {
   "display_name": "Python 3",
   "language": "python",
   "name": "python3"
  },
  "language_info": {
   "codemirror_mode": {
    "name": "ipython",
    "version": 3
   },
   "file_extension": ".py",
   "mimetype": "text/x-python",
   "name": "python",
   "nbconvert_exporter": "python",
   "pygments_lexer": "ipython3",
   "version": "3.7.3"
  },
  "toc": {
   "base_numbering": 1,
   "nav_menu": {},
   "number_sections": true,
   "sideBar": true,
   "skip_h1_title": false,
   "title_cell": "Table of Contents",
   "title_sidebar": "Contents",
   "toc_cell": false,
   "toc_position": {},
   "toc_section_display": true,
   "toc_window_display": false
  },
  "varInspector": {
   "cols": {
    "lenName": 16,
    "lenType": 16,
    "lenVar": 40
   },
   "kernels_config": {
    "python": {
     "delete_cmd_postfix": "",
     "delete_cmd_prefix": "del ",
     "library": "var_list.py",
     "varRefreshCmd": "print(var_dic_list())"
    },
    "r": {
     "delete_cmd_postfix": ") ",
     "delete_cmd_prefix": "rm(",
     "library": "var_list.r",
     "varRefreshCmd": "cat(var_dic_list()) "
    }
   },
   "types_to_exclude": [
    "module",
    "function",
    "builtin_function_or_method",
    "instance",
    "_Feature"
   ],
   "window_display": true
  }
 },
 "nbformat": 4,
 "nbformat_minor": 2
}
