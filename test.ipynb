import requests
from bs4 import beautifulsoup4
headers = {
#     'user-agent': "Mozilla/5.0 (Macintosh; Intel Mac OS X 10_14_6) AppleWebKit/537.36 (KHTML, like Gecko) Chrome/78.0.3904.108 Safari/537.36"
# }
# res = requests.get("https://www.zhihu.com/question/27487523/", headers=headers)
# print(res)

# soup = BeautifulSoup(res.text, "html.parser")
# print(soup.prettify())