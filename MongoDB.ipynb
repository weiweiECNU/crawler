{
 "cells": [
  {
   "cell_type": "markdown",
   "metadata": {},
   "source": [
    "# MongoDB\n",
    "\n"
   ]
  },
  {
   "cell_type": "code",
   "execution_count": 17,
   "metadata": {
    "ExecuteTime": {
     "end_time": "2019-12-14T07:48:51.003129Z",
     "start_time": "2019-12-14T07:48:50.949907Z"
    }
   },
   "outputs": [],
   "source": [
    "import pymongo\n",
    "import requests\n",
    "from lxml import etree\n",
    "import re\n",
    "import time"
   ]
  },
  {
   "cell_type": "code",
   "execution_count": 10,
   "metadata": {
    "ExecuteTime": {
     "end_time": "2019-12-14T06:50:47.309034Z",
     "start_time": "2019-12-14T06:50:47.289540Z"
    }
   },
   "outputs": [],
   "source": [
    "client = pymongo.MongoClient(\"localhost\", 27017)\n",
    "# 连接MangoDB 服务\n",
    "\n",
    "mydb = client['mydb']\n",
    "# 创建数据库\n",
    "\n",
    "test = mydb[\"test\"]\n",
    "# 创建collection (表)\n",
    "\n"
   ]
  },
  {
   "cell_type": "markdown",
   "metadata": {},
   "source": [
    "发现并没有建立 mydb数据库和 test表，这是因为 MongoDB 数据库只有插入数据后才会建立。"
   ]
  },
  {
   "cell_type": "code",
   "execution_count": 11,
   "metadata": {
    "ExecuteTime": {
     "end_time": "2019-12-14T06:50:48.830876Z",
     "start_time": "2019-12-14T06:50:48.815361Z"
    }
   },
   "outputs": [
    {
     "data": {
      "text/plain": [
       "<pymongo.results.InsertOneResult at 0x122d41848>"
      ]
     },
     "execution_count": 11,
     "metadata": {},
     "output_type": "execute_result"
    }
   ],
   "source": [
    "test.insert_one({'name':'wei', 'sex': 'male', 'grade': '99'})\n",
    "\n"
   ]
  },
  {
   "cell_type": "markdown",
   "metadata": {},
   "source": [
    "## 导出 CSV\n",
    "\n",
    "```shell\n",
    "mongoexport -d mydb -c test --type=csv -f name,sex,grade -o test.csv\n",
    "```"
   ]
  },
  {
   "cell_type": "markdown",
   "metadata": {},
   "source": [
    "## 爬取豆瓣音乐 TOP250 的数据 存储到 MangoDB 里"
   ]
  },
  {
   "cell_type": "code",
   "execution_count": 14,
   "metadata": {
    "ExecuteTime": {
     "end_time": "2019-12-14T07:07:44.255857Z",
     "start_time": "2019-12-14T07:07:44.248486Z"
    }
   },
   "outputs": [],
   "source": [
    "client = pymongo.MongoClient(\"localhost\", 27017)\n",
    "mydb = client['mydb']\n",
    "music = mydb[\"doubanMusic\"]\n",
    "\n",
    "headers = {\n",
    "    'user-agent': \"Mozilla/5.0 (Macintosh; Intel Mac OS X 10_14_6) AppleWebKit/537.36 (KHTML, like Gecko) Chrome/78.0.3904.108 Safari/537.36\"\n",
    "}\n"
   ]
  },
  {
   "cell_type": "code",
   "execution_count": 113,
   "metadata": {
    "ExecuteTime": {
     "end_time": "2019-12-14T08:53:23.959577Z",
     "start_time": "2019-12-14T08:53:23.953448Z"
    }
   },
   "outputs": [],
   "source": [
    "def get_url(link):\n",
    "    res = requests.get(link, headers=headers)\n",
    "    selector = etree.HTML(res.text)\n",
    "    links = selector.xpath('//div[@class=\"pl2\"]/a[1]/@href')\n",
    "    return links\n"
   ]
  },
  {
   "cell_type": "code",
   "execution_count": 119,
   "metadata": {
    "ExecuteTime": {
     "end_time": "2019-12-14T09:06:56.400903Z",
     "start_time": "2019-12-14T09:06:56.379072Z"
    }
   },
   "outputs": [],
   "source": [
    "def get_info(url):\n",
    "    res = requests.get(url, headers=headers)\n",
    "    selector = etree.HTML(res.text)\n",
    "    name = selector.xpath('//*[@id=\"wrapper\"]/h1/span/text()')[0]\n",
    "    author = re.findall('表演者:.*?>(.*?)</a>', res.text, re.S)[0].strip()\n",
    "    \n",
    "    styles = re.findall('<span class=\"pl\">流派:</span>&nbsp;(.*?)<br', res.text, re.S)\n",
    "    if len(styles) == 0:\n",
    "        style = '未知'\n",
    "    else:\n",
    "        style = styles[0].strip()\n",
    "        \n",
    "    medium = re.findall('<span class=\"pl\">介质:</span>&nbsp;(.*?)<br', res.text, re.S)[0].strip()\n",
    "    publishing_time = re.findall('<span class=\"pl\">发行时间:</span>&nbsp;(.*?)<br', res.text, re.S)[0].strip()\n",
    "    \n",
    "    publishers = re.findall('<span class=\"pl\">出版者:</span>&nbsp;(.*?)<br', res.text, re.S)\n",
    "    if len(publishers) == 0:\n",
    "        publisher = '未知'\n",
    "    else:\n",
    "        publisher = publishers[0].strip()\n",
    "    \n",
    "    \n",
    "    rate = float(selector.xpath('//*[@id=\"interest_sectl\"]/div/div[2]/strong/text()')[0])\n",
    "\n",
    "    info = { 'name': name,\n",
    "            'author': author,\n",
    "            'style': style,\n",
    "            'medium': medium,\n",
    "            'publishing_time': publishing_time,\n",
    "            'publisher': publisher,\n",
    "            'rate': rate,\n",
    "    }\n",
    "\n",
    "    return info\n"
   ]
  },
  {
   "cell_type": "code",
   "execution_count": 120,
   "metadata": {
    "ExecuteTime": {
     "end_time": "2019-12-14T09:25:41.786468Z",
     "start_time": "2019-12-14T09:06:58.782172Z"
    }
   },
   "outputs": [
    {
     "name": "stdout",
     "output_type": "stream",
     "text": [
      "https://music.douban.com/top250?start=0\n",
      "{'name': 'We Sing. We Dance. We Steal Things.', 'author': 'Jason Mraz', 'style': '民谣', 'medium': 'Audio CD', 'publishing_time': '2008-05-13', 'publisher': 'Atlantic/WEA', 'rate': 9.1}\n",
      "{'name': 'Viva La Vida', 'author': 'Coldplay', 'style': '摇滚', 'medium': 'CD', 'publishing_time': '2008-06-17', 'publisher': 'Capitol', 'rate': 8.7}\n",
      "{'name': '华丽的冒险', 'author': '陈绮贞', 'style': '流行', 'medium': 'CD', 'publishing_time': '2005-09-23', 'publisher': '艾迴唱片', 'rate': 8.9}\n",
      "{'name': '范特西', 'author': '周杰伦', 'style': '流行', 'medium': 'CD', 'publishing_time': '2001-09-14', 'publisher': 'BMG', 'rate': 9.2}\n",
      "{'name': '後。青春期的詩', 'author': '五月天', 'style': '摇滚', 'medium': 'CD', 'publishing_time': '2008-10-23', 'publisher': '相信音樂', 'rate': 8.8}\n",
      "{'name': '是时候', 'author': '孙燕姿', 'style': '流行', 'medium': 'CD', 'publishing_time': '2011-03-08', 'publisher': '美妙音乐', 'rate': 8.6}\n",
      "{'name': 'Lenka', 'author': 'Lenka', 'style': '流行', 'medium': 'Audio CD', 'publishing_time': '2008-09-23', 'publisher': 'Epic', 'rate': 8.5}\n",
      "{'name': 'Start from Here', 'author': '王若琳', 'style': '爵士', 'medium': 'CD', 'publishing_time': '2008-01-11', 'publisher': 'SONY BMG唱片', 'rate': 8.7}\n",
      "{'name': '旅行的意义', 'author': '陈绮贞', 'style': '流行', 'medium': 'CD', 'publishing_time': '2004-02-02', 'publisher': 'cheerego.com', 'rate': 9.2}\n",
      "{'name': '太阳', 'author': '陈绮贞', 'style': '流行', 'medium': 'CD', 'publishing_time': '2009-01-22', 'publisher': '艾迴', 'rate': 8.6}\n",
      "{'name': 'Once (Soundtrack)', 'author': 'Glen Hansard', 'style': '原声', 'medium': 'CD', 'publishing_time': '2007-05-22', 'publisher': 'Columbia', 'rate': 9.1}\n",
      "{'name': 'Not Going Anywhere', 'author': 'Keren Ann', 'style': '民谣', 'medium': 'Audio CD', 'publishing_time': '2004-08-24', 'publisher': 'Capitol/Blue Note', 'rate': 8.9}\n",
      "{'name': 'American Idiot', 'author': 'Green Day', 'style': '摇滚', 'medium': 'Audio CD', 'publishing_time': '2004-09-21', 'publisher': 'Wea Japan', 'rate': 8.9}\n",
      "{'name': '思念是一种病', 'author': '张震岳 Csun Yuk', 'style': '流行', 'medium': 'CD', 'publishing_time': '2007-07-06', 'publisher': '滚石唱片', 'rate': 8.8}\n",
      "{'name': '無與倫比的美麗', 'author': '苏打绿', 'style': '流行', 'medium': 'CD', 'publishing_time': '2007-11-02', 'publisher': '林暐哲音乐社', 'rate': 8.6}\n",
      "{'name': '亲爱的...我还不知道', 'author': '张悬', 'style': '流行', 'medium': 'CD', 'publishing_time': '2007-07-20', 'publisher': '新力博德曼音樂娛樂股份有限公司', 'rate': 8.5}\n",
      "{'name': '城市', 'author': '张悬', 'style': '流行', 'medium': 'CD', 'publishing_time': '2009-05-22', 'publisher': '索尼音樂', 'rate': 8.3}\n",
      "{'name': 'O', 'author': 'Damien Rice', 'style': '流行', 'medium': 'CD', 'publishing_time': '2003', 'publisher': 'Vector Recordings', 'rate': 9.1}\n",
      "{'name': 'Wake Me Up When September Ends', 'author': 'Green Day', 'style': '摇滚', 'medium': 'CD', 'publishing_time': '2005-06-13', 'publisher': 'Wea International', 'rate': 9.3}\n",
      "{'name': '叶惠美', 'author': '周杰伦', 'style': '流行', 'medium': 'CD', 'publishing_time': '2003-07-31', 'publisher': 'Sony Music', 'rate': 8.5}\n",
      "{'name': '七里香', 'author': '周杰伦', 'style': '流行', 'medium': 'CD', 'publishing_time': '2004', 'publisher': '上海声像出版社', 'rate': 8.1}\n",
      "{'name': '21', 'author': 'Adele', 'style': '流行', 'medium': 'CD', 'publishing_time': '2011-02-01', 'publisher': 'XL Recordings', 'rate': 9.0}\n",
      "{'name': 'My Life Will...', 'author': '张悬', 'style': '流行', 'medium': 'CD', 'publishing_time': '2006-06-09', 'publisher': 'Sony BMG', 'rate': 8.6}\n",
      "{'name': '寓言', 'author': '王菲', 'style': '流行', 'medium': 'CD', 'publishing_time': '2000', 'publisher': 'EMI', 'rate': 9.3}\n",
      "{'name': '你在煩惱什麼', 'author': '苏打绿', 'style': '流行', 'medium': 'CD', 'publishing_time': '2011-11-11', 'publisher': '林暐哲音乐社', 'rate': 8.9}\n",
      "https://music.douban.com/top250?start=25\n",
      "{'name': '感官/世界', 'author': '林宥嘉', 'style': '流行', 'medium': 'CD', 'publishing_time': '2009-10-30', 'publisher': '华研唱片', 'rate': 8.7}\n",
      "{'name': 'Nevermind', 'author': 'Nirvana', 'style': '摇滚', 'medium': 'CD', 'publishing_time': '1991', 'publisher': 'Geffen Records', 'rate': 9.2}\n",
      "{'name': '八度空间', 'author': '周杰伦', 'style': '流行', 'medium': 'CD', 'publishing_time': '2002-07-19', 'publisher': '湖南金锋音像出版社', 'rate': 8.5}\n",
      "{'name': 'Jay', 'author': '周杰伦', 'style': '流行', 'medium': 'Audio CD', 'publishing_time': '2000-11-13', 'publisher': 'BMG', 'rate': 8.9}\n",
      "{'name': 'Parachutes', 'author': 'Coldplay', 'style': '摇滚', 'medium': 'CD', 'publishing_time': '2000-07-10', 'publisher': 'EMI', 'rate': 9.0}\n",
      "{'name': '我要的幸福', 'author': '孙燕姿', 'style': '流行', 'medium': 'CD', 'publishing_time': '2000-12-7', 'publisher': '中国音乐家音像出版社', 'rate': 8.9}\n",
      "{'name': '还是会寂寞', 'author': '陈绮贞', 'style': '流行', 'medium': 'CD', 'publishing_time': '2000', 'publisher': '魔岩唱片', 'rate': 9.0}\n",
      "{'name': 'Let Go', 'author': 'Avril Lavigne', 'style': '摇滚', 'medium': 'Audio CD', 'publishing_time': '2002', 'publisher': 'Arista', 'rate': 8.8}\n",
      "{'name': '十一月的萧邦', 'author': '周杰伦', 'style': '流行', 'medium': 'CD', 'publishing_time': '2005-11-01', 'publisher': '上海声像出版社', 'rate': 7.9}\n",
      "{'name': '橙月', 'author': '方大同', 'style': '放克/灵歌/R&amp;B', 'medium': 'CD', 'publishing_time': '2008-12-19', 'publisher': '華納', 'rate': 8.5}\n",
      "{'name': '小宇宙', 'author': '苏打绿', 'style': '流行', 'medium': 'CD', 'publishing_time': '2006-10-20', 'publisher': '林暐哲音乐社', 'rate': 8.7}\n",
      "{'name': '若你碰到他', 'author': '蔡健雅', 'style': '流行', 'medium': 'CD', 'publishing_time': '2009-08-19', 'publisher': '亚神音乐', 'rate': 8.0}\n",
      "{'name': 'Lady & Bird', 'author': 'Lady &amp; Bird', 'style': '民谣', 'medium': 'Audio CD', 'publishing_time': '2003', 'publisher': 'EMI', 'rate': 8.8}\n",
      "{'name': '万能青年旅店', 'author': '万能青年旅店', 'style': '摇滚', 'medium': 'CD', 'publishing_time': '2010-11-12', 'publisher': '独立出品', 'rate': 9.1}\n",
      "{'name': 'Meteora', 'author': 'Linkin Park', 'style': '摇滚', 'medium': 'Audio CD', 'publishing_time': '2003-03-25', 'publisher': 'Warner Bros / Wea', 'rate': 9.0}\n",
      "{'name': 'Back To Bedlam', 'author': 'James Blunt', 'style': '流行', 'medium': 'Audio CD', 'publishing_time': '2004', 'publisher': 'Atlantic', 'rate': 8.9}\n",
      "{'name': '苏打绿', 'author': '苏打绿', 'style': '流行', 'medium': 'CD', 'publishing_time': '2005年9月', 'publisher': '林暐哲音乐社', 'rate': 8.6}\n",
      "{'name': '静茹&情歌 别再为他流泪', 'author': '梁静茹', 'style': '流行', 'medium': 'Audio CD', 'publishing_time': '2009-01-16', 'publisher': '相信音樂', 'rate': 8.4}\n",
      "{'name': '美妙生活', 'author': '林宥嘉', 'style': '流行', 'medium': 'CD', 'publishing_time': '2011-05-06', 'publisher': '华研国际', 'rate': 8.6}\n",
      "{'name': \"Le Fabuleux destin d'Amélie Poulain\", 'author': 'Yann Tiersen', 'style': '原声', 'medium': 'Audio CD', 'publishing_time': '2001-04-23', 'publisher': 'Virgin Records', 'rate': 9.3}\n",
      "{'name': 'Joanna & 王若琳', 'author': '王若琳', 'style': '未知', 'medium': 'CD', 'publishing_time': '2009-01-16', 'publisher': '新力音樂', 'rate': 8.1}\n",
      "{'name': 'A Plea En Vendredi', 'author': 'Tamas Wells', 'style': '民谣', 'medium': 'Audio CD', 'publishing_time': '2006', 'publisher': 'Popboomerang', 'rate': 9.0}\n",
      "{'name': 'To Hebe', 'author': '田馥甄 Hebe', 'style': '流行', 'medium': 'CD', 'publishing_time': '2010-09-03', 'publisher': '华研国际', 'rate': 8.0}\n",
      "{'name': '逆光', 'author': '孙燕姿', 'style': '流行', 'medium': 'CD', 'publishing_time': '2007-03-22', 'publisher': 'EMI', 'rate': 8.3}\n",
      "{'name': '只爱陌生人', 'author': '王菲', 'style': '流行', 'medium': 'CD', 'publishing_time': '1999-09-10', 'publisher': '中国唱片上海公司', 'rate': 9.3}\n",
      "https://music.douban.com/top250?start=50\n",
      "{'name': 'Music For Tourists', 'author': 'Chris Garneau', 'style': '民谣', 'medium': 'Audio CD', 'publishing_time': '2007-01-23', 'publisher': 'Absolutely Kosher', 'rate': 8.7}\n",
      "{'name': 'The Moment', 'author': '孙燕姿', 'style': '流行', 'medium': 'CD', 'publishing_time': '2003-08-22', 'publisher': 'Warner', 'rate': 9.0}\n",
      "{'name': '七', 'author': '陈奕迅', 'style': '流行', 'medium': 'CD', 'publishing_time': '2003-11-20', 'publisher': 'EEG', 'rate': 9.4}\n",
      "{'name': '春·日光', 'author': '苏打绿', 'style': '民谣', 'medium': 'CD', 'publishing_time': '2009-05-08', 'publisher': '林暐哲音乐社', 'rate': 8.0}\n",
      "{'name': '100种生活', 'author': '盧廣仲', 'style': '民谣', 'medium': 'CD', 'publishing_time': '2008-5-27', 'publisher': '添翼創越工作室', 'rate': 8.3}\n",
      "{'name': '崇拜', 'author': '梁静茹', 'style': '流行', 'medium': 'CD', 'publishing_time': '2007-11-09', 'publisher': '相信音乐', 'rate': 8.4}\n",
      "{'name': '陈绮贞精选', 'author': '陈绮贞', 'style': '民谣', 'medium': 'CD', 'publishing_time': '2005', 'publisher': '中国康艺音像出版社', 'rate': 9.2}\n"
     ]
    },
    {
     "name": "stdout",
     "output_type": "stream",
     "text": [
      "{'name': '菊次郎の夏', 'author': 'Joe Hisaishi', 'style': '原声', 'medium': 'CD', 'publishing_time': '1999-05-19', 'publisher': 'Universal/Polydor', 'rate': 9.4}\n",
      "{'name': 'Fearless', 'author': 'Taylor Swift', 'style': '流行', 'medium': 'Audio CD', 'publishing_time': '2008-11-11', 'publisher': 'Big Machine', 'rate': 8.4}\n",
      "{'name': 'Life In Cartoon Motion', 'author': 'Mika', 'style': '流行', 'medium': 'CD', 'publishing_time': '2007-02-05', 'publisher': 'Universal/Island', 'rate': 8.8}\n",
      "{'name': 'H³M', 'author': '陈奕迅', 'style': '流行', 'medium': 'CD', 'publishing_time': '2009-03-23', 'publisher': '环球', 'rate': 8.5}\n",
      "{'name': '神秘嘉宾', 'author': '林宥嘉', 'style': '流行', 'medium': 'CD', 'publishing_time': '2008-06-03', 'publisher': '华研', 'rate': 8.4}\n",
      "{'name': 'Les Choristes', 'author': 'Bruno Coulais', 'style': '原声', 'medium': 'Audio CD', 'publishing_time': '2004-05-03', 'publisher': 'Nonesuch', 'rate': 9.4}\n",
      "{'name': '赤子', 'author': '范晓萱&amp;100%', 'style': '流行', 'medium': 'CD', 'publishing_time': '2009-08-10', 'publisher': '吃草的鱼', 'rate': 8.1}\n",
      "{'name': '9', 'author': 'Damien Rice', 'style': '民谣', 'medium': 'Audio CD', 'publishing_time': '2006-11-06', 'publisher': 'Warner Music Group', 'rate': 8.9}\n",
      "{'name': '将爱', 'author': '王菲', 'style': '流行', 'medium': 'CD', 'publishing_time': '2003', 'publisher': 'Sony Music', 'rate': 8.7}\n",
      "{'name': '遇见我', 'author': '曹方', 'style': '流行', 'medium': 'CD', 'publishing_time': '2005年12月', 'publisher': '钛友文化', 'rate': 8.4}\n",
      "{'name': '梵高先生', 'author': '李志', 'style': '民谣', 'medium': 'CD', 'publishing_time': '2007-01-11', 'publisher': '口袋唱片', 'rate': 8.9}\n",
      "{'name': 'Timeless 可啦思刻', 'author': '方大同', 'style': '放克/灵歌/R&amp;B', 'medium': 'CD', 'publishing_time': '2009-08-11', 'publisher': '华纳唱片', 'rate': 8.3}\n",
      "{'name': '依然范特西', 'author': '周杰伦', 'style': '流行', 'medium': 'CD', 'publishing_time': '2006-09-05', 'publisher': '新索音乐', 'rate': 7.7}\n",
      "{'name': '风筝', 'author': '孙燕姿', 'style': '流行', 'medium': 'CD', 'publishing_time': '2001-07-09', 'publisher': 'Warner', 'rate': 8.8}\n",
      "{'name': '完美的一天', 'author': '孙燕姿', 'style': '流行', 'medium': 'CD', 'publishing_time': '2005-10-07', 'publisher': '华纳唱片', 'rate': 8.1}\n",
      "{'name': 'Say I Am You', 'author': 'The Weepies', 'style': '民谣', 'medium': 'Audio CD', 'publishing_time': '2006', 'publisher': 'Nettwerk Records', 'rate': 8.5}\n",
      "{'name': '黑色柳丁', 'author': '陶喆', 'style': '流行', 'medium': 'CD', 'publishing_time': '2002', 'publisher': 'Shock Records Co. Ltd', 'rate': 8.8}\n",
      "{'name': 'Under My Skin', 'author': 'Avril Lavigne', 'style': '摇滚', 'medium': 'Audio CD', 'publishing_time': '2004-05-12', 'publisher': 'Bmg', 'rate': 8.5}\n",
      "https://music.douban.com/top250?start=75\n",
      "{'name': 'Stefanie', 'author': '孙燕姿', 'style': '流行', 'medium': 'CD', 'publishing_time': '2004-10-1', 'publisher': '珠影白天鹅音像出版社', 'rate': 8.6}\n",
      "{'name': 'The Fame', 'author': 'Lady Gaga', 'style': '电子', 'medium': 'Audio CD', 'publishing_time': '2008-08-19', 'publisher': 'Interscope', 'rate': 8.3}\n",
      "{'name': 'Mr. A-Z', 'author': 'Jason Mraz', 'style': '流行', 'medium': 'Audio CD', 'publishing_time': '2005-07-04', 'publisher': 'Elektra / Wea', 'rate': 9.0}\n",
      "{'name': '为爱而生', 'author': '五月天', 'style': '流行', 'medium': 'CD', 'publishing_time': '2006-12-28', 'publisher': '滾石', 'rate': 8.4}\n",
      "{'name': 'Daniel Powter', 'author': 'Daniel Powter', 'style': '流行', 'medium': 'Audio CD', 'publishing_time': '2006', 'publisher': 'Warner Bros / Wea', 'rate': 8.6}\n",
      "{'name': \"I'm Yours\", 'author': 'Jason Mraz', 'style': '民谣', 'medium': 'Audio CD', 'publishing_time': '2008-12-16', 'publisher': 'Atlantic (Warner)', 'rate': 9.4}\n",
      "{'name': '在动物园散步才是正经事', 'author': 'My Little Airport', 'style': '流行', 'medium': 'CD', 'publishing_time': '2004-08-07', 'publisher': '維港唱片', 'rate': 8.2}\n",
      "{'name': '时光·漫步', 'author': '许巍 Wei Xu', 'style': '民谣', 'medium': 'CD', 'publishing_time': '2002-12-01', 'publisher': '步升音像', 'rate': 8.9}\n",
      "{'name': '生如夏花', 'author': '朴树', 'style': '流行', 'medium': 'CD', 'publishing_time': '2003-11-28', 'publisher': '华纳音乐', 'rate': 8.6}\n",
      "{'name': '我很忙', 'author': '周杰伦', 'style': '流行', 'medium': 'CD', 'publishing_time': '2007-11-01', 'publisher': '杰威尔音乐', 'rate': 7.3}\n",
      "{'name': '夏 / 狂热', 'author': '苏打绿', 'style': '摇滚', 'medium': 'CD', 'publishing_time': '2009-09-11', 'publisher': '林暐哲音乐社', 'rate': 8.3}\n",
      "{'name': '绝世名伶', 'author': '范晓萱', 'style': '爵士', 'medium': 'CD', 'publishing_time': '2001-08-25', 'publisher': '新艺宝', 'rate': 8.8}\n",
      "{'name': '哼一首歌 等日落', 'author': '曹方', 'style': '流行', 'medium': 'CD', 'publishing_time': '2009-11-11', 'publisher': '大班音乐工作室', 'rate': 8.1}\n",
      "{'name': '未完成', 'author': '孙燕姿', 'style': '流行', 'medium': 'CD', 'publishing_time': '2003-01-10', 'publisher': 'Warner', 'rate': 8.6}\n",
      "{'name': 'OK Computer', 'author': 'Radiohead', 'style': '摇滚', 'medium': 'Audio CD', 'publishing_time': '1997', 'publisher': 'Capitol', 'rate': 9.2}\n",
      "{'name': 'Born to Die', 'author': 'Lana Del Rey', 'style': '流行', 'medium': 'Audio CD', 'publishing_time': '2012-01-31', 'publisher': 'IGA', 'rate': 8.5}\n",
      "{'name': 'The Wall', 'author': 'Pink Floyd', 'style': '摇滚', 'medium': 'Audio CD', 'publishing_time': '1979', 'publisher': 'Sony/Columbia', 'rate': 9.2}\n",
      "{'name': '不要停止我的音乐', 'author': '痛仰', 'style': '摇滚', 'medium': 'CD', 'publishing_time': '2008-10', 'publisher': '音驰文化', 'rate': 8.6}\n",
      "{'name': 'Hybrid Theory', 'author': 'Linkin Park', 'style': '摇滚', 'medium': 'CD', 'publishing_time': '2000', 'publisher': 'Warner Bros', 'rate': 8.9}\n",
      "{'name': 'MTV Unplugged in New York', 'author': 'Nirvana', 'style': '摇滚', 'medium': 'Audio CD', 'publishing_time': '1994-11-01', 'publisher': 'Geffen Records', 'rate': 9.5}\n",
      "{'name': 'After 17', 'author': '陈绮贞', 'style': '流行', 'medium': 'CD', 'publishing_time': '2004年12月', 'publisher': 'cheerego', 'rate': 9.2}\n",
      "{'name': 'In Between Dreams', 'author': 'Jack Johnson', 'style': '民谣', 'medium': 'Audio CD', 'publishing_time': '2005-03-22', 'publisher': 'Umvd Labels', 'rate': 9.0}\n",
      "{'name': '神的孩子都在跳舞', 'author': '五月天 Mayday', 'style': '流行', 'medium': 'CD+VCD', 'publishing_time': '2004-11-05', 'publisher': '滚石', 'rate': 8.9}\n",
      "{'name': '离开地球表面Jump!', 'author': '五月天', 'style': '流行', 'medium': 'CD+DVD', 'publishing_time': '2007-07-20', 'publisher': '滾石國際音樂股份有限公司', 'rate': 8.7}\n",
      "{'name': '不想放手', 'author': '陈奕迅', 'style': '流行', 'medium': 'CD', 'publishing_time': '2008-06-30', 'publisher': '新藝寶', 'rate': 8.3}\n",
      "https://music.douban.com/top250?start=100\n",
      "{'name': '我的歌声里', 'author': '曲婉婷', 'style': '流行', 'medium': '数字(Digital)', 'publishing_time': '2010-02-24', 'publisher': 'Nettwerk', 'rate': 9.2}\n",
      "{'name': 'The Legend of 1900', 'author': 'Ennio Morricone', 'style': '原声', 'medium': 'Audio CD', 'publishing_time': '1999-10-12', 'publisher': 'Sony', 'rate': 9.4}\n",
      "{'name': '孤独的人是可耻的', 'author': '张楚', 'style': '摇滚', 'medium': 'CD', 'publishing_time': '1994', 'publisher': '魔岩唱片', 'rate': 9.1}\n",
      "{'name': '徐佳瑩La La首张创作专辑', 'author': '徐佳莹', 'style': '流行', 'medium': 'CD', 'publishing_time': '2009-05-29', 'publisher': '亚神音乐', 'rate': 8.2}\n",
      "{'name': 'The Best Damn Thing', 'author': 'Avril Lavigne', 'style': '流行', 'medium': 'Audio CD', 'publishing_time': '2007-04-17', 'publisher': 'RCA Records', 'rate': 7.7}\n",
      "{'name': '知足 just my pride 最真杰作选', 'author': '五月天', 'style': '摇滚', 'medium': 'CD', 'publishing_time': '2005-11-18', 'publisher': '滚石', 'rate': 9.1}\n",
      "{'name': '1', 'author': 'The Beatles', 'style': '摇滚', 'medium': 'CD', 'publishing_time': '2000', 'publisher': 'Capitol', 'rate': 9.4}\n",
      "{'name': '魔杰座', 'author': '周杰伦', 'style': '流行', 'medium': 'CD', 'publishing_time': '2008-10-09', 'publisher': '新力博德曼', 'rate': 6.9}\n",
      "{'name': 'X&Y', 'author': 'Coldplay', 'style': '摇滚', 'medium': 'CD', 'publishing_time': '2005-06-07', 'publisher': 'Capitol', 'rate': 8.4}\n",
      "{'name': '19', 'author': 'Adele', 'style': '放克/灵歌/R&amp;B', 'medium': 'Audio CD', 'publishing_time': '2008-01-28', 'publisher': 'Xl Recordings UK', 'rate': 8.3}\n",
      "{'name': '我们在炎热与抑郁的夏天，无法停止抽烟', 'author': 'My Little Airport', 'style': '流行', 'medium': 'CD', 'publishing_time': '2007-10-10', 'publisher': '维港音乐', 'rate': 8.1}\n",
      "{'name': '时光机', 'author': '五月天', 'style': '摇滚', 'medium': 'CD', 'publishing_time': '2003-11-11', 'publisher': '滚石唱片', 'rate': 9.0}\n",
      "{'name': 'Yan Zi', 'author': '孙燕姿', 'style': '流行', 'medium': 'CD', 'publishing_time': '2000-06-08', 'publisher': '华纳唱片', 'rate': 9.0}\n"
     ]
    },
    {
     "name": "stdout",
     "output_type": "stream",
     "text": [
      "{'name': 'Time Flies', 'author': '陈奕迅', 'style': '流行', 'medium': 'CD+DVD', 'publishing_time': '2010-03-12', 'publisher': '新藝寶', 'rate': 8.7}\n",
      "{'name': '失败者的飞翔', 'author': '陈绮贞', 'style': '流行', 'medium': 'CD', 'publishing_time': '2008-07-13', 'publisher': '亚神音乐', 'rate': 8.6}\n",
      "{'name': 'My Love', 'author': '田馥甄', 'style': '流行', 'medium': 'CD', 'publishing_time': '2011-09-02', 'publisher': '华研唱片', 'rate': 8.0}\n",
      "{'name': '亲亲', 'author': '梁静茹', 'style': '流行', 'medium': 'CD', 'publishing_time': '2006-10-06', 'publisher': '滚石', 'rate': 8.1}\n",
      "{'name': '你王菲所以我王菲', 'author': '王菲', 'style': '流行', 'medium': 'CD', 'publishing_time': '2002', 'publisher': 'EMI百代', 'rate': 9.4}\n",
      "{'name': 'Stranger Under My Skin', 'author': '陈奕迅', 'style': '流行', 'medium': 'CD', 'publishing_time': '2011-02-22', 'publisher': '新艺宝', 'rate': 8.6}\n",
      "{'name': 'Come Away with Me', 'author': 'Norah Jones', 'style': '爵士', 'medium': 'CD', 'publishing_time': '2002', 'publisher': 'Blue Note Records', 'rate': 8.8}\n",
      "{'name': '平凡之路', 'author': '朴树', 'style': '未知', 'medium': '数字(Digital)', 'publishing_time': '2014-07-16', 'publisher': '华谊', 'rate': 8.9}\n",
      "{'name': '认了吧', 'author': '陈奕迅', 'style': '流行', 'medium': 'CD', 'publishing_time': '2007-04-24', 'publisher': '新藝寶', 'rate': 8.7}\n",
      "{'name': '21st Century Breakdown', 'author': 'Green Day', 'style': '摇滚', 'medium': 'CD', 'publishing_time': '2009-05-15', 'publisher': 'Reprise Records', 'rate': 8.5}\n",
      "{'name': '神的游戏', 'author': '張懸', 'style': '流行', 'medium': 'CD', 'publishing_time': '2012-08-10', 'publisher': '索尼音乐', 'rate': 8.7}\n",
      "{'name': '唱游', 'author': '王菲', 'style': '流行', 'medium': 'CD', 'publishing_time': '1998', 'publisher': 'EMI', 'rate': 9.2}\n",
      "https://music.douban.com/top250?start=125\n",
      "{'name': '花的姿态：演唱会经典实录', 'author': '陈绮贞', 'style': '未知', 'medium': 'CD DVD', 'publishing_time': '2007-05-18', 'publisher': '亞神唱片', 'rate': 9.2}\n",
      "{'name': '我去2000年', 'author': '朴树', 'style': '流行', 'medium': 'CD', 'publishing_time': '1999-1', 'publisher': '麦田音乐', 'rate': 9.1}\n",
      "{'name': 'Young For You', 'author': 'GALA', 'style': '摇滚', 'medium': 'CD', 'publishing_time': '2004', 'publisher': '弄潮音乐', 'rate': 8.7}\n",
      "{'name': '自选集', 'author': '孙燕姿', 'style': '流行', 'medium': 'CD', 'publishing_time': '2002年1月', 'publisher': 'Warner', 'rate': 8.9}\n",
      "{'name': '理性与感性 作品音乐会', 'author': '李宗盛 Jonathan', 'style': '流行', 'medium': 'CD', 'publishing_time': '2007-09-28', 'publisher': '滾石唱片', 'rate': 9.5}\n",
      "{'name': '比天空还远', 'author': '曹方', 'style': '流行', 'medium': 'CD', 'publishing_time': '2007-11-20', 'publisher': '大班音乐工作室', 'rate': 8.5}\n",
      "{'name': '黑梦', 'author': '窦唯', 'style': '摇滚', 'medium': 'CD', 'publishing_time': '1994-10', 'publisher': '魔岩唱片', 'rate': 9.2}\n",
      "{'name': '介乎法國與旺角的詩意', 'author': 'My Little Airport', 'style': '流行', 'medium': 'CD', 'publishing_time': '2009-11-20', 'publisher': '維港唱片', 'rate': 8.1}\n",
      "{'name': '不能说的秘密', 'author': '周杰倫', 'style': '未知', 'medium': 'CD', 'publishing_time': '2007-08-13', 'publisher': 'Sony BMG', 'rate': 8.7}\n",
      "{'name': '丝路', 'author': '梁静茹 Fish', 'style': '流行', 'medium': 'CD', 'publishing_time': '2005-9-16', 'publisher': '滚石唱片', 'rate': 8.2}\n",
      "{'name': 'All The Lost Souls', 'author': 'James Blunt', 'style': '流行', 'medium': 'Audio CD', 'publishing_time': '2007-09-18', 'publisher': 'Wea', 'rate': 8.5}\n",
      "{'name': 'F.I.R.', 'author': 'F.I.R.', 'style': '流行', 'medium': 'CD', 'publishing_time': '2004-04-29', 'publisher': '珠影白天鹅音像出版社', 'rate': 8.6}\n",
      "{'name': '上五楼的快活', 'author': '陈奕迅', 'style': '流行', 'medium': 'CD', 'publishing_time': '2009-09-23', 'publisher': '環球唱片', 'rate': 7.7}\n",
      "{'name': 'Minutes to Midnight', 'author': 'Linkin Park', 'style': '摇滚', 'medium': 'CD', 'publishing_time': '2007-05-15', 'publisher': 'Warner Bros.', 'rate': 8.2}\n",
      "{'name': 'GOODBYE & HELLO', 'author': '蔡健雅', 'style': '流行', 'medium': 'CD', 'publishing_time': '2007-10-19', 'publisher': '亚神音乐', 'rate': 8.6}\n",
      "{'name': 'Someone Like You', 'author': 'Adele', 'style': '放克/灵歌/R&amp;B', 'medium': '数字(Digital)', 'publishing_time': '2011-01-24', 'publisher': 'XL Recordings', 'rate': 9.5}\n",
      "{'name': '迟到千年', 'author': '苏打绿', 'style': '流行', 'medium': 'CD', 'publishing_time': '2006-09-18', 'publisher': '林暐哲音樂社', 'rate': 8.8}\n",
      "{'name': 'The Dark Side of the Moon', 'author': 'Pink Floyd', 'style': '摇滚', 'medium': '黑胶', 'publishing_time': '1973', 'publisher': 'Capitol', 'rate': 9.1}\n",
      "{'name': '王菲 2001', 'author': '王菲', 'style': '流行', 'medium': 'CD', 'publishing_time': '2001', 'publisher': '中国唱片上海公司', 'rate': 9.1}\n",
      "{'name': '夜空中最亮的星', 'author': '逃跑计划', 'style': '摇滚', 'medium': '数字(Digital)', 'publishing_time': '2011-04-12', 'publisher': '美丽世界音乐', 'rate': 9.5}\n",
      "{'name': '追梦痴子心', 'author': 'GALA', 'style': '摇滚', 'medium': 'CD', 'publishing_time': '2011-03-24', 'publisher': '東樂影音', 'rate': 8.8}\n",
      "{'name': '宝贝', 'author': '莫文蔚', 'style': '流行', 'medium': 'CD', 'publishing_time': '2010-07-26', 'publisher': '环球唱片', 'rate': 7.9}\n",
      "{'name': '黑白灰', 'author': '陈奕迅', 'style': '流行', 'medium': 'CD', 'publishing_time': '2003', 'publisher': 'EEG', 'rate': 9.1}\n",
      "{'name': '安和桥北', 'author': '宋冬野', 'style': '民谣', 'medium': 'CD', 'publishing_time': '2013-08-26', 'publisher': '摩登天空', 'rate': 8.7}\n",
      "{'name': 'Prisoner of Love', 'author': '宇多田ヒカル', 'style': '流行', 'medium': 'Audio CD', 'publishing_time': '2008-05-21', 'publisher': 'EMI MUSIC JAPAN(TO)(M)', 'rate': 9.2}\n",
      "https://music.douban.com/top250?start=150\n",
      "{'name': 'Groupies 吉他手', 'author': '陈绮贞', 'style': '流行', 'medium': 'CD', 'publishing_time': '2002-08-02', 'publisher': '滾石唱片', 'rate': 9.1}\n",
      "{'name': 'Now The Day Is Over', 'author': 'The Innocence Mission', 'style': '民谣', 'medium': 'CD', 'publishing_time': '2004', 'publisher': 'Badman Records', 'rate': 8.4}\n",
      "{'name': 'Apologize', 'author': 'Timbaland', 'style': '放克/灵歌/R&amp;B', 'medium': 'Audio CD', 'publishing_time': '2007-11-06', 'publisher': 'Blackground Records/Interscope Records', 'rate': 9.2}\n",
      "{'name': '阿菲正传', 'author': '王菲', 'style': '流行', 'medium': 'CD', 'publishing_time': '2009-06-25', 'publisher': 'Universal/一間製作/正視音樂@TVB/香港電臺', 'rate': 9.4}\n",
      "{'name': '跨时代', 'author': '周杰伦', 'style': '流行', 'medium': 'CD', 'publishing_time': '2010-05-14', 'publisher': 'JVR Music', 'rate': 7.0}\n",
      "{'name': 'Leave', 'author': '孙燕姿', 'style': '流行', 'medium': 'CD', 'publishing_time': '2002-5-21', 'publisher': 'Warner Music Taiwan', 'rate': 8.7}\n",
      "{'name': '被禁忌的游戏', 'author': '李志', 'style': '民谣', 'medium': 'CD', 'publishing_time': '2004-12', 'publisher': '口袋唱片', 'rate': 8.8}\n",
      "{'name': \"What's Going On....?\", 'author': '陈奕迅', 'style': '流行', 'medium': 'CD', 'publishing_time': '2006', 'publisher': '新艺宝', 'rate': 9.1}\n",
      "{'name': '第二人生 末日版', 'author': '五月天', 'style': '流行', 'medium': 'CD', 'publishing_time': '2011-12-20', 'publisher': '相信音樂', 'rate': 8.9}\n",
      "{'name': '樂之路', 'author': '陶喆', 'style': '流行', 'medium': 'CD', 'publishing_time': '2003-08-08', 'publisher': '金牌大風', 'rate': 9.0}\n",
      "{'name': \"It Won't Be Soon Before Long\", 'author': 'Maroon 5', 'style': '流行', 'medium': 'CD', 'publishing_time': '2007-05-22', 'publisher': 'A&amp;M / Octone Records', 'rate': 8.2}\n",
      "{'name': '如果你冷', 'author': '张悬', 'style': '民谣', 'medium': '数字', 'publishing_time': '2008-10-20', 'publisher': 'self-released', 'rate': 8.3}\n",
      "{'name': '陌生人', 'author': '蔡健雅 Tanya Chua', 'style': '流行', 'medium': 'CD', 'publishing_time': '2003-06-00', 'publisher': 'Warner Music Taiwan Ltd', 'rate': 8.7}\n",
      "{'name': '浮躁', 'author': '王菲', 'style': '流行', 'medium': 'Audio CD', 'publishing_time': '1996', 'publisher': '新艺宝', 'rate': 9.2}\n",
      "{'name': \"C'est La Vie\", 'author': '自然卷', 'style': '民谣', 'medium': 'CD', 'publishing_time': '2004', 'publisher': '风和日丽唱片行', 'rate': 8.2}\n",
      "{'name': '在一起', 'author': '刘若英', 'style': '流行', 'medium': 'CD', 'publishing_time': '2010-04-16', 'publisher': '相信音乐', 'rate': 7.8}\n",
      "{'name': 'These Friends Of Mine', 'author': 'Rosie Thomas', 'style': '民谣', 'medium': 'Audio CD', 'publishing_time': '2007-03-13', 'publisher': 'Nettwerk Records', 'rate': 8.7}\n",
      "{'name': '陪我歌唱', 'author': '苏打绿', 'style': '未知', 'medium': 'CD', 'publishing_time': '2008', 'publisher': '新汇集团上海音像公司', 'rate': 9.1}\n",
      "{'name': \"It's Not Me, It's You\", 'author': 'Lily Allen', 'style': '流行', 'medium': 'Audio CD', 'publishing_time': '2009-02-09', 'publisher': 'EMI', 'rate': 8.5}\n",
      "{'name': 'The Rose~I Love Cinemas~', 'author': '手嶌葵', 'style': '流行', 'medium': 'CD', 'publishing_time': '2008-03-05', 'publisher': 'Yamaha Music', 'rate': 9.2}\n"
     ]
    },
    {
     "name": "stdout",
     "output_type": "stream",
     "text": [
      "{'name': '我爱南京', 'author': '李志', 'style': '民谣', 'medium': 'CD', 'publishing_time': '2009-10-16', 'publisher': '未知', 'rate': 8.6}\n",
      "{'name': '消失的光年', 'author': '大乔小乔', 'style': '民谣', 'medium': 'CD', 'publishing_time': '2007-07-12', 'publisher': '九洲音像出版公司', 'rate': 8.2}\n",
      "{'name': '还有别的办法吗', 'author': '范晓萱', 'style': '流行', 'medium': 'CD', 'publishing_time': '2004', 'publisher': '林暐哲音乐社', 'rate': 8.7}\n",
      "{'name': '日光倾城', 'author': '卡奇社', 'style': '流行', 'medium': 'CD', 'publishing_time': '2007-04-20', 'publisher': '中国音楽家音像出版社', 'rate': 8.1}\n",
      "{'name': 'A Little Love', 'author': '冯曦妤', 'style': '流行', 'medium': 'CD', 'publishing_time': '2008-11-20', 'publisher': 'Click Music Ltd.', 'rate': 8.4}\n",
      "https://music.douban.com/top250?start=175\n",
      "{'name': 'Yellow', 'author': 'Coldplay', 'style': '摇滚', 'medium': 'Audio CD', 'publishing_time': '2000-07-03', 'publisher': 'EMI Int&#39;l', 'rate': 9.3}\n",
      "{'name': 'Hopes And Fears', 'author': 'Keane', 'style': '摇滚', 'medium': 'Audio CD', 'publishing_time': '2004', 'publisher': 'Interscope Records', 'rate': 8.9}\n",
      "{'name': 'U87', 'author': '陈奕迅', 'style': '流行', 'medium': 'CD+DVD', 'publishing_time': '2005-06-07', 'publisher': '新艺宝', 'rate': 9.3}\n",
      "{'name': 'Lady Sleep', 'author': 'Maximilian Hecker', 'style': '民谣', 'medium': 'Audio CD', 'publishing_time': '2005', 'publisher': 'Kitty Yo', 'rate': 8.8}\n",
      "{'name': '天空の城ラピュタ サウンドトラック 飛行石の謎', 'author': '久石譲(Joe Hisaishi)', 'style': '原声', 'medium': 'Audio CD', 'publishing_time': '1993-12-21', 'publisher': 'Studi', 'rate': 9.5}\n",
      "{'name': '新长征路上的摇滚', 'author': '崔健', 'style': '摇滚', 'medium': 'CD', 'publishing_time': '1989', 'publisher': '中国国际广播音像出版社', 'rate': 9.2}\n",
      "{'name': '小飞行', 'author': '棉花糖', 'style': '民谣', 'medium': 'CD', 'publishing_time': '2009-05-01', 'publisher': '亚神音乐', 'rate': 7.9}\n",
      "{'name': '春生', 'author': '好妹妹乐队', 'style': '民谣', 'medium': 'CD', 'publishing_time': '2012-07-01', 'publisher': '春生工作室', 'rate': 8.8}\n",
      "{'name': '讓我想一想', 'author': '陈绮贞', 'style': '民谣', 'medium': 'CD', 'publishing_time': '1998-07-14', 'publisher': '滚石唱片', 'rate': 9.0}\n",
      "{'name': '未来', 'author': '方大同', 'style': '放克/灵歌/R&amp;B', 'medium': 'CD', 'publishing_time': '2007-12-28', 'publisher': '华纳', 'rate': 8.3}\n",
      "{'name': '爱爱爱', 'author': '方大同', 'style': '流行', 'medium': 'CD', 'publishing_time': '2006-12', 'publisher': '华纳', 'rate': 8.6}\n",
      "{'name': '世界', 'author': '逃跑计划', 'style': '摇滚', 'medium': 'CD', 'publishing_time': '2011-12-31', 'publisher': '中国科学文化音像出版社有限公司', 'rate': 9.0}\n",
      "{'name': '七天', 'author': '盧廣仲', 'style': '民谣', 'medium': 'CD', 'publishing_time': '2009-10-30', 'publisher': '添翼创越', 'rate': 7.8}\n",
      "{'name': 'Nirvana', 'author': 'Nirvana', 'style': '摇滚', 'medium': 'Audio CD', 'publishing_time': '2002-10-29', 'publisher': 'Interscope', 'rate': 9.2}\n",
      "{'name': 'A Rush of  Blood to the Head', 'author': 'Coldplay', 'style': '摇滚', 'medium': 'Audio CD', 'publishing_time': '2002', 'publisher': 'Capitol', 'rate': 8.6}\n",
      "{'name': 'The Velvet Underground & Nico', 'author': 'The Velvet Underground', 'style': '摇滚', 'medium': 'CD', 'publishing_time': '1967-04', 'publisher': 'Polydor / Pgd', 'rate': 9.0}\n",
      "{'name': 'Love The Way You Lie', 'author': 'Eminem', 'style': '说唱', 'medium': 'Audio CD', 'publishing_time': '2010-08-20', 'publisher': 'Interscope (Universal)', 'rate': 9.3}\n",
      "{'name': '天空', 'author': '王菲', 'style': '流行', 'medium': 'CD', 'publishing_time': '1994', 'publisher': '新艺宝/福茂唱片', 'rate': 9.3}\n",
      "{'name': 'The Boat That Rocked', 'author': 'Original Soundtrack', 'style': '原声', 'medium': 'CD', 'publishing_time': '2009-03-30', 'publisher': 'Mercury', 'rate': 9.2}\n",
      "{'name': \"(What's The Story) Morning Glory?\", 'author': 'Oasis', 'style': '摇滚', 'medium': 'CD', 'publishing_time': '1995', 'publisher': 'Creation', 'rate': 9.2}\n",
      "{'name': 'PUSSY', 'author': '陈绮贞', 'style': '民谣', 'medium': 'Audio CD', 'publishing_time': '2007-02-08', 'publisher': 'Cheerego', 'rate': 8.7}\n",
      "{'name': '呼吸', 'author': 'Salyu', 'style': '原声', 'medium': 'CD', 'publishing_time': '2001', 'publisher': 'Toy&#39;s Factory', 'rate': 9.0}\n",
      "{'name': 'Fallen', 'author': 'Evanescence', 'style': '摇滚', 'medium': 'Audio CD', 'publishing_time': '2003', 'publisher': 'Wind-Up', 'rate': 8.5}\n",
      "{'name': '黑豹', 'author': '黑豹', 'style': '摇滚', 'medium': 'CD', 'publishing_time': '1992-12-01', 'publisher': '未知', 'rate': 9.1}\n",
      "{'name': '十年一刻', 'author': '苏打绿', 'style': '流行', 'medium': 'CD+DVD', 'publishing_time': '2010-08-27', 'publisher': '林暐哲音乐社', 'rate': 8.8}\n",
      "https://music.douban.com/top250?start=200\n",
      "{'name': '恋爱的力量', 'author': '梁静茹', 'style': '流行', 'medium': 'CD', 'publishing_time': '2003年3月', 'publisher': '江西文化音像出版社', 'rate': 8.9}\n",
      "{'name': 'Suede', 'author': 'Suede', 'style': '摇滚', 'medium': 'CD', 'publishing_time': '1993', 'publisher': 'Nude Records', 'rate': 8.9}\n",
      "{'name': 'The Bends', 'author': 'Radiohead', 'style': '摇滚', 'medium': 'CD', 'publishing_time': '1995', 'publisher': 'Capitol', 'rate': 9.1}\n",
      "{'name': '琵琶相', 'author': '林海', 'style': '轻音乐', 'medium': 'CD', 'publishing_time': '2004', 'publisher': '風潮有聲出版有限公司', 'rate': 9.3}\n",
      "{'name': '？', 'author': '陈奕迅', 'style': '流行', 'medium': 'CD', 'publishing_time': '2011-11-11', 'publisher': '环球', 'rate': 8.0}\n",
      "{'name': '少年故事', 'author': '彭坦', 'style': '流行', 'medium': 'CD', 'publishing_time': '2007-07-23', 'publisher': '太合麦田', 'rate': 8.0}\n",
      "{'name': '黑暗之光', 'author': '雷光夏', 'style': '民谣', 'medium': 'CD', 'publishing_time': '2006-12-01', 'publisher': 'Sony Music', 'rate': 8.8}\n",
      "{'name': '我要我们在一起', 'author': '范晓萱', 'style': '流行', 'medium': 'CD', 'publishing_time': '1999-11-1', 'publisher': '福茂唱片', 'rate': 8.7}\n",
      "{'name': '人生海海', 'author': '五月天', 'style': '摇滚', 'medium': 'CD', 'publishing_time': '2001-07-06', 'publisher': '滚石', 'rate': 9.2}\n",
      "{'name': \"Maybe I'm Dreaming\", 'author': 'Owl City', 'style': '流行', 'medium': 'CD', 'publishing_time': '2008-03-18', 'publisher': 'Universal Republic', 'rate': 8.4}\n",
      "{'name': '工体东路没有人', 'author': '李志', 'style': '民谣', 'medium': '数字', 'publishing_time': '2009-01-22', 'publisher': 'MicroMu', 'rate': 9.0}\n",
      "{'name': 'Let It Be', 'author': 'The Beatles', 'style': '摇滚', 'medium': 'Audio CD', 'publishing_time': '1990-10-25', 'publisher': 'Capitol', 'rate': 9.3}\n",
      "{'name': 'Alright,Still', 'author': 'Lily Allen', 'style': '流行', 'medium': 'Audio CD', 'publishing_time': '2006', 'publisher': 'EMI/Regal', 'rate': 8.3}\n",
      "{'name': '大小說家', 'author': '林宥嘉', 'style': '流行', 'medium': 'CD', 'publishing_time': '2012-06-22', 'publisher': '華研國際', 'rate': 7.9}\n",
      "{'name': '越长大越孤单', 'author': '牛奶@咖啡', 'style': '流行', 'medium': 'CD', 'publishing_time': '2008-03-18', 'publisher': '摩登天空', 'rate': 7.6}\n",
      "{'name': '燕尾蝶', 'author': '梁静茹', 'style': '流行', 'medium': 'CD', 'publishing_time': '2004', 'publisher': '国际文化交流音像出版社', 'rate': 8.0}\n",
      "{'name': '原谅我就是这样的女生', 'author': '戴佩妮', 'style': '流行', 'medium': 'CD+DVD', 'publishing_time': '2009-05-16', 'publisher': '環球', 'rate': 7.6}\n",
      "{'name': '传奇', 'author': '王菲', 'style': '民谣', 'medium': 'CD', 'publishing_time': '2010-11-05', 'publisher': '中国科学文化音像出版社', 'rate': 9.2}\n",
      "{'name': 'Under the Radar', 'author': 'Daniel Powter', 'style': '流行', 'medium': 'Audio CD', 'publishing_time': '2008-10-14', 'publisher': 'Warner Bros.', 'rate': 8.3}\n",
      "{'name': '知足 MV / Karaoke DVD', 'author': '五月天', 'style': '流行', 'medium': 'DVD', 'publishing_time': '2006', 'publisher': '滚石', 'rate': 9.2}\n",
      "{'name': '我的歌声里', 'author': '曲婉婷', 'style': '流行', 'medium': 'CD', 'publishing_time': '2012-07-01', 'publisher': '星外星唱片', 'rate': 7.7}\n",
      "{'name': '王菲', 'author': '王菲', 'style': '流行', 'medium': 'CD', 'publishing_time': '1997-09-30', 'publisher': 'EMI', 'rate': 9.2}\n",
      "{'name': '信仰在空中飘扬', 'author': '汪峰', 'style': '摇滚', 'medium': 'CD', 'publishing_time': '2009-07-25', 'publisher': '大国文化', 'rate': 8.7}\n",
      "{'name': '[i]', 'author': '莫文蔚', 'style': '流行', 'medium': 'CD', 'publishing_time': '2002-04-29', 'publisher': '新力唱片', 'rate': 8.7}\n",
      "{'name': 'Songs About Jane', 'author': 'Maroon 5', 'style': '流行', 'medium': 'Audio CD', 'publishing_time': '2002', 'publisher': 'Bmg Int&#39;l', 'rate': 8.5}\n",
      "https://music.douban.com/top250?start=225\n",
      "{'name': 'Back To Black', 'author': 'Amy Winehouse', 'style': '放克/灵歌/R&amp;B', 'medium': 'Audio CD', 'publishing_time': '2006-11-30', 'publisher': 'Island', 'rate': 8.5}\n",
      "{'name': 'Demo 3', 'author': '陈绮贞', 'style': '流行', 'medium': 'CD', 'publishing_time': '2001-11-09', 'publisher': '魔岩唱片', 'rate': 9.1}\n"
     ]
    },
    {
     "name": "stdout",
     "output_type": "stream",
     "text": [
      "{'name': '克卜勒', 'author': '孙燕姿', 'style': '流行', 'medium': 'CD', 'publishing_time': '2014-02-27', 'publisher': '环球唱片', 'rate': 8.4}\n",
      "{'name': 'E=MC²', 'author': 'Mariah Carey', 'style': '流行', 'medium': 'CD', 'publishing_time': '2008-04-16', 'publisher': 'Island', 'rate': 8.5}\n",
      "{'name': '9 Crimes', 'author': 'Damien Rice', 'style': '民谣', 'medium': 'Audio CD', 'publishing_time': '2006-11-27', 'publisher': 'Warner Classics UK', 'rate': 9.4}\n",
      "{'name': '如果有一件事是重要的', 'author': '陈珊妮', 'style': '流行', 'medium': 'CD', 'publishing_time': '2008-11-22', 'publisher': '大樂音樂企業社', 'rate': 8.2}\n",
      "{'name': '赤裸裸', 'author': '郑钧', 'style': '摇滚', 'medium': 'CD', 'publishing_time': '1994', 'publisher': '红星音乐生产社', 'rate': 8.8}\n",
      "{'name': '阿岳正传', 'author': '张震岳', 'style': '流行', 'medium': 'CD', 'publishing_time': '2004-06-24', 'publisher': '滚石唱片', 'rate': 9.0}\n",
      "{'name': '3颗猫饼干', 'author': '朱玫玲', 'style': '未知', 'medium': 'CD', 'publishing_time': '2004/04/26', 'publisher': 'Wind Records Co.Ltd. 风潮有声出版有限公司', 'rate': 9.1}\n",
      "{'name': '21 Guns', 'author': 'Green Day', 'style': '未知', 'medium': 'Audio CD', 'publishing_time': '2009-07-14', 'publisher': '101 DISTRIBUTION', 'rate': 9.2}\n",
      "{'name': '看我72变', 'author': '蔡依林 Jolin Tsai', 'style': '流行', 'medium': 'CD', 'publishing_time': '2003-03-07', 'publisher': '上海声像出版社', 'rate': 8.2}\n",
      "{'name': '第二人生 明日版', 'author': '五月天', 'style': '流行', 'medium': 'CD', 'publishing_time': '2011-12-20', 'publisher': '相信音樂', 'rate': 9.0}\n",
      "{'name': 'Definitely Maybe', 'author': 'Oasis', 'style': '摇滚', 'medium': 'CD', 'publishing_time': '1994-08-30', 'publisher': 'Sony', 'rate': 9.0}\n",
      "{'name': 'First Love', 'author': '宇多田ヒカル', 'style': '流行', 'medium': 'CD', 'publishing_time': '1999', 'publisher': 'toshiba EMI', 'rate': 9.1}\n",
      "{'name': '阿密特', 'author': '张惠妹', 'style': '流行', 'medium': 'CD', 'publishing_time': '2009-06-26', 'publisher': '金牌大風', 'rate': 7.7}\n",
      "{'name': '心·跳', 'author': '王力宏 Leehom Wang', 'style': '流行', 'medium': 'CD', 'publishing_time': '2008-12-26', 'publisher': '新索音乐', 'rate': 7.1}\n",
      "{'name': 'xx', 'author': 'The xx', 'style': '摇滚', 'medium': 'CD', 'publishing_time': '2009-08-17', 'publisher': 'Young Turks', 'rate': 8.7}\n",
      "{'name': '回蔚', 'author': '莫文蔚', 'style': '流行', 'medium': 'CD+DVD', 'publishing_time': '2009-06-23', 'publisher': '北京东方影音公司', 'rate': 8.0}\n",
      "{'name': '如果看見地獄，我就不怕魔鬼', 'author': 'Tizzy Bac', 'style': '流行', 'medium': 'CD', 'publishing_time': '2009-02-13', 'publisher': '彎的音樂', 'rate': 8.1}\n",
      "{'name': '我们是五月天', 'author': '五月天', 'style': '流行', 'medium': 'CD', 'publishing_time': '2003年4月17日', 'publisher': '滚石唱片', 'rate': 9.3}\n",
      "{'name': '王妃', 'author': '萧敬腾', 'style': '流行', 'medium': 'CD', 'publishing_time': '2009-07-17', 'publisher': '華納音樂', 'rate': 7.7}\n",
      "{'name': 'Poker Face', 'author': 'Lady Gaga', 'style': '未知', 'medium': 'Audio CD', 'publishing_time': 'September 23, 2008', 'publisher': 'Streamline, Kon Live, Interscope, Cherrytree', 'rate': 8.7}\n",
      "{'name': '唐朝', 'author': '唐朝', 'style': '摇滚', 'medium': 'CD', 'publishing_time': '1992-12', 'publisher': '魔岩唱片', 'rate': 9.0}\n",
      "{'name': '寻找周杰伦', 'author': '周杰伦', 'style': '流行', 'medium': '音乐CD', 'publishing_time': '2003-12-1', 'publisher': '上海声像出版社', 'rate': 8.5}\n",
      "{'name': '她说', 'author': '林俊杰', 'style': '流行', 'medium': 'CD', 'publishing_time': '2010-12-08', 'publisher': '海蝶音乐', 'rate': 7.7}\n",
      "https://music.douban.com/top250?start=250\n"
     ]
    }
   ],
   "source": [
    "for i in range(0,250,25):\n",
    "    link = 'https://music.douban.com/top250?start={}'.format(str(i))\n",
    "    print(link)\n",
    "    for url in get_url(link):\n",
    "        info = get_info(url)\n",
    "        print(info)\n",
    "        music.insert_one(info)\n",
    "        time.sleep(1)"
   ]
  }
 ],
 "metadata": {
  "hide_input": false,
  "kernelspec": {
   "display_name": "Python 3",
   "language": "python",
   "name": "python3"
  },
  "language_info": {
   "codemirror_mode": {
    "name": "ipython",
    "version": 3
   },
   "file_extension": ".py",
   "mimetype": "text/x-python",
   "name": "python",
   "nbconvert_exporter": "python",
   "pygments_lexer": "ipython3",
   "version": "3.7.3"
  },
  "toc": {
   "base_numbering": 1,
   "nav_menu": {},
   "number_sections": true,
   "sideBar": true,
   "skip_h1_title": false,
   "title_cell": "Table of Contents",
   "title_sidebar": "Contents",
   "toc_cell": false,
   "toc_position": {},
   "toc_section_display": true,
   "toc_window_display": false
  },
  "varInspector": {
   "cols": {
    "lenName": 16,
    "lenType": 16,
    "lenVar": 40
   },
   "kernels_config": {
    "python": {
     "delete_cmd_postfix": "",
     "delete_cmd_prefix": "del ",
     "library": "var_list.py",
     "varRefreshCmd": "print(var_dic_list())"
    },
    "r": {
     "delete_cmd_postfix": ") ",
     "delete_cmd_prefix": "rm(",
     "library": "var_list.r",
     "varRefreshCmd": "cat(var_dic_list()) "
    }
   },
   "types_to_exclude": [
    "module",
    "function",
    "builtin_function_or_method",
    "instance",
    "_Feature"
   ],
   "window_display": true
  }
 },
 "nbformat": 4,
 "nbformat_minor": 2
}
