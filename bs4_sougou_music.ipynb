{
 "cells": [
  {
   "cell_type": "code",
   "execution_count": 32,
   "metadata": {
    "ExecuteTime": {
     "end_time": "2019-12-05T10:23:05.135868Z",
     "start_time": "2019-12-05T10:22:10.956634Z"
    }
   },
   "outputs": [
    {
     "name": "stdout",
     "output_type": "stream",
     "text": [
      "1\n",
      "2\n",
      "3\n",
      "4\n",
      "5\n",
      "6\n",
      "7\n",
      "8\n",
      "9\n",
      "10\n",
      "11\n",
      "12\n",
      "13\n",
      "14\n",
      "15\n",
      "16\n",
      "17\n",
      "18\n",
      "19\n",
      "20\n"
     ]
    }
   ],
   "source": [
    "from bs4 import BeautifulSoup\n",
    "import requests\n",
    "import re\n",
    "import pandas as pd\n",
    "import time\n",
    "\n",
    "\n",
    "headers = {\n",
    "    'user-agent': \"Mozilla/5.0 (Macintosh; Intel Mac OS X 10_14_6) AppleWebKit/537.36 (KHTML, like Gecko) Chrome/78.0.3904.108 Safari/537.36\"\n",
    "}\n",
    "\n",
    "def get_info(url):\n",
    "    \n",
    "    wb_data = requests.get(url, headers=headers)\n",
    "    soup = BeautifulSoup(wb_data.text, \"lxml\")  # 'lxml'\n",
    "    \n",
    "    ranks = soup.select(\"#rankWrap > div.pc_temp_songlist > ul > li > span.pc_temp_num\")\n",
    "    titles = soup.select(\"#rankWrap > div.pc_temp_songlist > ul > li > a\")\n",
    "    times = soup.select(\"#rankWrap > div.pc_temp_songlist > ul > li > span.pc_temp_tips_r > span\")\n",
    "\n",
    "    for rank, title, time in zip(ranks, titles, times):\n",
    "        row = {}\n",
    "        row.update({\"rank\": rank.get_text().strip()})\n",
    "        row.update({\"singer\": title.get_text().strip().split(\"-\")[0]})\n",
    "        row.update({\"title\": title.get_text().strip().split(\"-\")[1]})\n",
    "        row.update({\"time\": time.get_text().strip()})\n",
    "\n",
    "    return row\n",
    "\n",
    "if __name__ == '__main__':\n",
    "    columns_index = [\"rank\",\"singer\",\"title\",\"time\"]\n",
    "    rows_list = []\n",
    "    for i in range(1,21):\n",
    "        url = \"https://www.kugou.com/yy/rank/home/{}-8888.html\".format(i)\n",
    "        rows_list.append(get_info(url))\n",
    "        print(i)\n",
    "        time.sleep(1)\n",
    "    \n",
    "    pd.DataFrame(rows_list, columns=columns_index).to_excel(\"output_sougou.xlsx\")"
   ]
  }
 ],
 "metadata": {
  "hide_input": false,
  "kernelspec": {
   "display_name": "Python 3",
   "language": "python",
   "name": "python3"
  },
  "language_info": {
   "codemirror_mode": {
    "name": "ipython",
    "version": 3
   },
   "file_extension": ".py",
   "mimetype": "text/x-python",
   "name": "python",
   "nbconvert_exporter": "python",
   "pygments_lexer": "ipython3",
   "version": "3.7.3"
  },
  "toc": {
   "base_numbering": 1,
   "nav_menu": {},
   "number_sections": true,
   "sideBar": true,
   "skip_h1_title": false,
   "title_cell": "Table of Contents",
   "title_sidebar": "Contents",
   "toc_cell": false,
   "toc_position": {},
   "toc_section_display": true,
   "toc_window_display": false
  },
  "varInspector": {
   "cols": {
    "lenName": 16,
    "lenType": 16,
    "lenVar": 40
   },
   "kernels_config": {
    "python": {
     "delete_cmd_postfix": "",
     "delete_cmd_prefix": "del ",
     "library": "var_list.py",
     "varRefreshCmd": "print(var_dic_list())"
    },
    "r": {
     "delete_cmd_postfix": ") ",
     "delete_cmd_prefix": "rm(",
     "library": "var_list.r",
     "varRefreshCmd": "cat(var_dic_list()) "
    }
   },
   "types_to_exclude": [
    "module",
    "function",
    "builtin_function_or_method",
    "instance",
    "_Feature"
   ],
   "window_display": true
  }
 },
 "nbformat": 4,
 "nbformat_minor": 2
}
